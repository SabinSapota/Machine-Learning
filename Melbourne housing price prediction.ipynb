{
 "cells": [
  {
   "cell_type": "markdown",
   "id": "df173322",
   "metadata": {},
   "source": [
    "# Melbourne housing price prediction"
   ]
  },
  {
   "cell_type": "markdown",
   "id": "8f2bd2d0",
   "metadata": {},
   "source": [
    "Here,I have used pipeline to make coding compact"
   ]
  },
  {
   "cell_type": "code",
   "execution_count": 1,
   "id": "fb4e5945",
   "metadata": {},
   "outputs": [
    {
     "data": {
      "text/html": [
       "<div>\n",
       "<style scoped>\n",
       "    .dataframe tbody tr th:only-of-type {\n",
       "        vertical-align: middle;\n",
       "    }\n",
       "\n",
       "    .dataframe tbody tr th {\n",
       "        vertical-align: top;\n",
       "    }\n",
       "\n",
       "    .dataframe thead th {\n",
       "        text-align: right;\n",
       "    }\n",
       "</style>\n",
       "<table border=\"1\" class=\"dataframe\">\n",
       "  <thead>\n",
       "    <tr style=\"text-align: right;\">\n",
       "      <th></th>\n",
       "      <th>Suburb</th>\n",
       "      <th>Address</th>\n",
       "      <th>Rooms</th>\n",
       "      <th>Type</th>\n",
       "      <th>Price</th>\n",
       "      <th>Method</th>\n",
       "      <th>SellerG</th>\n",
       "      <th>Date</th>\n",
       "      <th>Distance</th>\n",
       "      <th>Postcode</th>\n",
       "      <th>...</th>\n",
       "      <th>Bathroom</th>\n",
       "      <th>Car</th>\n",
       "      <th>Landsize</th>\n",
       "      <th>BuildingArea</th>\n",
       "      <th>YearBuilt</th>\n",
       "      <th>CouncilArea</th>\n",
       "      <th>Lattitude</th>\n",
       "      <th>Longtitude</th>\n",
       "      <th>Regionname</th>\n",
       "      <th>Propertycount</th>\n",
       "    </tr>\n",
       "  </thead>\n",
       "  <tbody>\n",
       "    <tr>\n",
       "      <th>0</th>\n",
       "      <td>Abbotsford</td>\n",
       "      <td>85 Turner St</td>\n",
       "      <td>2</td>\n",
       "      <td>h</td>\n",
       "      <td>1480000.0</td>\n",
       "      <td>S</td>\n",
       "      <td>Biggin</td>\n",
       "      <td>3/12/2016</td>\n",
       "      <td>2.5</td>\n",
       "      <td>3067.0</td>\n",
       "      <td>...</td>\n",
       "      <td>1.0</td>\n",
       "      <td>1.0</td>\n",
       "      <td>202.0</td>\n",
       "      <td>NaN</td>\n",
       "      <td>NaN</td>\n",
       "      <td>Yarra</td>\n",
       "      <td>-37.7996</td>\n",
       "      <td>144.9984</td>\n",
       "      <td>Northern Metropolitan</td>\n",
       "      <td>4019.0</td>\n",
       "    </tr>\n",
       "    <tr>\n",
       "      <th>1</th>\n",
       "      <td>Abbotsford</td>\n",
       "      <td>25 Bloomburg St</td>\n",
       "      <td>2</td>\n",
       "      <td>h</td>\n",
       "      <td>1035000.0</td>\n",
       "      <td>S</td>\n",
       "      <td>Biggin</td>\n",
       "      <td>4/02/2016</td>\n",
       "      <td>2.5</td>\n",
       "      <td>3067.0</td>\n",
       "      <td>...</td>\n",
       "      <td>1.0</td>\n",
       "      <td>0.0</td>\n",
       "      <td>156.0</td>\n",
       "      <td>79.0</td>\n",
       "      <td>1900.0</td>\n",
       "      <td>Yarra</td>\n",
       "      <td>-37.8079</td>\n",
       "      <td>144.9934</td>\n",
       "      <td>Northern Metropolitan</td>\n",
       "      <td>4019.0</td>\n",
       "    </tr>\n",
       "    <tr>\n",
       "      <th>2</th>\n",
       "      <td>Abbotsford</td>\n",
       "      <td>5 Charles St</td>\n",
       "      <td>3</td>\n",
       "      <td>h</td>\n",
       "      <td>1465000.0</td>\n",
       "      <td>SP</td>\n",
       "      <td>Biggin</td>\n",
       "      <td>4/03/2017</td>\n",
       "      <td>2.5</td>\n",
       "      <td>3067.0</td>\n",
       "      <td>...</td>\n",
       "      <td>2.0</td>\n",
       "      <td>0.0</td>\n",
       "      <td>134.0</td>\n",
       "      <td>150.0</td>\n",
       "      <td>1900.0</td>\n",
       "      <td>Yarra</td>\n",
       "      <td>-37.8093</td>\n",
       "      <td>144.9944</td>\n",
       "      <td>Northern Metropolitan</td>\n",
       "      <td>4019.0</td>\n",
       "    </tr>\n",
       "    <tr>\n",
       "      <th>3</th>\n",
       "      <td>Abbotsford</td>\n",
       "      <td>40 Federation La</td>\n",
       "      <td>3</td>\n",
       "      <td>h</td>\n",
       "      <td>850000.0</td>\n",
       "      <td>PI</td>\n",
       "      <td>Biggin</td>\n",
       "      <td>4/03/2017</td>\n",
       "      <td>2.5</td>\n",
       "      <td>3067.0</td>\n",
       "      <td>...</td>\n",
       "      <td>2.0</td>\n",
       "      <td>1.0</td>\n",
       "      <td>94.0</td>\n",
       "      <td>NaN</td>\n",
       "      <td>NaN</td>\n",
       "      <td>Yarra</td>\n",
       "      <td>-37.7969</td>\n",
       "      <td>144.9969</td>\n",
       "      <td>Northern Metropolitan</td>\n",
       "      <td>4019.0</td>\n",
       "    </tr>\n",
       "    <tr>\n",
       "      <th>4</th>\n",
       "      <td>Abbotsford</td>\n",
       "      <td>55a Park St</td>\n",
       "      <td>4</td>\n",
       "      <td>h</td>\n",
       "      <td>1600000.0</td>\n",
       "      <td>VB</td>\n",
       "      <td>Nelson</td>\n",
       "      <td>4/06/2016</td>\n",
       "      <td>2.5</td>\n",
       "      <td>3067.0</td>\n",
       "      <td>...</td>\n",
       "      <td>1.0</td>\n",
       "      <td>2.0</td>\n",
       "      <td>120.0</td>\n",
       "      <td>142.0</td>\n",
       "      <td>2014.0</td>\n",
       "      <td>Yarra</td>\n",
       "      <td>-37.8072</td>\n",
       "      <td>144.9941</td>\n",
       "      <td>Northern Metropolitan</td>\n",
       "      <td>4019.0</td>\n",
       "    </tr>\n",
       "  </tbody>\n",
       "</table>\n",
       "<p>5 rows × 21 columns</p>\n",
       "</div>"
      ],
      "text/plain": [
       "       Suburb           Address  Rooms Type      Price Method SellerG  \\\n",
       "0  Abbotsford      85 Turner St      2    h  1480000.0      S  Biggin   \n",
       "1  Abbotsford   25 Bloomburg St      2    h  1035000.0      S  Biggin   \n",
       "2  Abbotsford      5 Charles St      3    h  1465000.0     SP  Biggin   \n",
       "3  Abbotsford  40 Federation La      3    h   850000.0     PI  Biggin   \n",
       "4  Abbotsford       55a Park St      4    h  1600000.0     VB  Nelson   \n",
       "\n",
       "        Date  Distance  Postcode  ...  Bathroom  Car  Landsize  BuildingArea  \\\n",
       "0  3/12/2016       2.5    3067.0  ...       1.0  1.0     202.0           NaN   \n",
       "1  4/02/2016       2.5    3067.0  ...       1.0  0.0     156.0          79.0   \n",
       "2  4/03/2017       2.5    3067.0  ...       2.0  0.0     134.0         150.0   \n",
       "3  4/03/2017       2.5    3067.0  ...       2.0  1.0      94.0           NaN   \n",
       "4  4/06/2016       2.5    3067.0  ...       1.0  2.0     120.0         142.0   \n",
       "\n",
       "   YearBuilt  CouncilArea Lattitude  Longtitude             Regionname  \\\n",
       "0        NaN        Yarra  -37.7996    144.9984  Northern Metropolitan   \n",
       "1     1900.0        Yarra  -37.8079    144.9934  Northern Metropolitan   \n",
       "2     1900.0        Yarra  -37.8093    144.9944  Northern Metropolitan   \n",
       "3        NaN        Yarra  -37.7969    144.9969  Northern Metropolitan   \n",
       "4     2014.0        Yarra  -37.8072    144.9941  Northern Metropolitan   \n",
       "\n",
       "  Propertycount  \n",
       "0        4019.0  \n",
       "1        4019.0  \n",
       "2        4019.0  \n",
       "3        4019.0  \n",
       "4        4019.0  \n",
       "\n",
       "[5 rows x 21 columns]"
      ]
     },
     "execution_count": 1,
     "metadata": {},
     "output_type": "execute_result"
    }
   ],
   "source": [
    "import pandas as pd\n",
    "from sklearn.model_selection import RandomizedSearchCV\n",
    "import warnings\n",
    "warnings.simplefilter(action='ignore', category=FutureWarning)\n",
    "df=pd.read_csv('melb_data.csv')\n",
    "import warnings\n",
    "warnings.simplefilter(action='ignore', category=FutureWarning)\n",
    "df.head()"
   ]
  },
  {
   "cell_type": "code",
   "execution_count": 2,
   "id": "abe8d30d",
   "metadata": {},
   "outputs": [],
   "source": [
    "\n",
    "y = df.Price  #target or dependent variable\n",
    "X = df.drop(['Price'], axis=1)  #independent variable"
   ]
  },
  {
   "cell_type": "code",
   "execution_count": 20,
   "id": "59879338",
   "metadata": {},
   "outputs": [
    {
     "data": {
      "application/vnd.jupyter.widget-view+json": {
       "model_id": "b2a3d162927644dcbd84b9be20a7506b",
       "version_major": 2,
       "version_minor": 0
      },
      "text/plain": [
       "interactive(children=(Dropdown(description='feature', options=('Suburb', 'Address', 'Rooms', 'Type', 'Method',…"
      ]
     },
     "metadata": {},
     "output_type": "display_data"
    },
    {
     "data": {
      "text/plain": [
       "<function __main__.plot(feature)>"
      ]
     },
     "execution_count": 20,
     "metadata": {},
     "output_type": "execute_result"
    }
   ],
   "source": [
    "import matplotlib.pyplot as plt\n",
    "from ipywidgets import interact\n",
    "def plot(feature):\n",
    "    plt.figure(figsize=(10,7))\n",
    "    plt.scatter(X[feature],y,color='red',marker='o',edgecolors='black')\n",
    "    plt.ylabel('Price(log scale)')\n",
    "    plt.xlabel(feature)\n",
    "    plt.title(f'scatter plot between price and {feature}',fontweight='bold')\n",
    "    plt.yscale(\"log\")\n",
    "menu=X.columns\n",
    "interact(plot,feature=menu)"
   ]
  },
  {
   "cell_type": "code",
   "execution_count": 27,
   "id": "4e6b01be",
   "metadata": {},
   "outputs": [
    {
     "data": {
      "text/plain": [
       "['Type', 'Method', 'Regionname']"
      ]
     },
     "execution_count": 27,
     "metadata": {},
     "output_type": "execute_result"
    }
   ],
   "source": [
    "# categorical having caridinal number less than 10\n",
    "cat_col=[col for col in X.columns if X[col].nunique()<15 and X[col].dtype=='O']\n",
    "cat_col"
   ]
  },
  {
   "cell_type": "code",
   "execution_count": 28,
   "id": "3ad9aed1",
   "metadata": {},
   "outputs": [
    {
     "data": {
      "text/plain": [
       "['Rooms',\n",
       " 'Distance',\n",
       " 'Postcode',\n",
       " 'Bedroom2',\n",
       " 'Bathroom',\n",
       " 'Car',\n",
       " 'Landsize',\n",
       " 'BuildingArea',\n",
       " 'YearBuilt',\n",
       " 'Lattitude',\n",
       " 'Longtitude',\n",
       " 'Propertycount']"
      ]
     },
     "execution_count": 28,
     "metadata": {},
     "output_type": "execute_result"
    }
   ],
   "source": [
    "#numerical columns\n",
    "num_col=[col for col in X.columns if X[col].dtype in ['int64','float64']]\n",
    "num_col"
   ]
  },
  {
   "cell_type": "code",
   "execution_count": 29,
   "id": "1d3c54fd",
   "metadata": {},
   "outputs": [],
   "source": [
    "# merging  above both  columns\n",
    "my_col=num_col+cat_col\n",
    "X=X[my_col]"
   ]
  },
  {
   "cell_type": "code",
   "execution_count": 30,
   "id": "4488952f",
   "metadata": {},
   "outputs": [],
   "source": [
    "from sklearn.compose import ColumnTransformer\n",
    "from sklearn.pipeline import Pipeline\n",
    "from sklearn.impute import SimpleImputer\n",
    "from sklearn.preprocessing import OneHotEncoder\n",
    "\n",
    "# Preprocessing for numerical data\n",
    "numerical_transformer = SimpleImputer(strategy='median')\n",
    "\n",
    "# Preprocessing for categorical data\n",
    "categorical_transformer = Pipeline(steps=[\n",
    "    ('imputer', SimpleImputer(strategy='most_frequent')),\n",
    "    ('onehot', OneHotEncoder(drop='first'))\n",
    "])"
   ]
  },
  {
   "cell_type": "code",
   "execution_count": 31,
   "id": "80944e68",
   "metadata": {},
   "outputs": [],
   "source": [
    "# Bundle preprocessing for numerical and categorical data\n",
    "preprocessor = ColumnTransformer(\n",
    "    transformers=[\n",
    "        ('num', numerical_transformer, num_col),\n",
    "        ('cat', categorical_transformer, cat_col)\n",
    "    ])"
   ]
  },
  {
   "cell_type": "code",
   "execution_count": 32,
   "id": "e4cccb70",
   "metadata": {},
   "outputs": [],
   "source": [
    "from sklearn.model_selection import KFold\n",
    "\n",
    "\n",
    "from sklearn.ensemble import RandomForestRegressor\n",
    "from sklearn.model_selection import cross_val_score\n",
    "\n"
   ]
  },
  {
   "cell_type": "code",
   "execution_count": 33,
   "id": "9efc74a8",
   "metadata": {},
   "outputs": [],
   "source": [
    "#now i am using stratified cross validation\n",
    "kfold=KFold(n_splits=5,shuffle=True,random_state=0)"
   ]
  },
  {
   "cell_type": "markdown",
   "id": "043cd3cc",
   "metadata": {},
   "source": [
    "- cross  validation is a statistical method of evaluating generlisation performance  that is more stable \n",
    "- In stratified cross validation, we split the dta  data such that proportion between classes are same in each fold."
   ]
  },
  {
   "cell_type": "markdown",
   "id": "aa8c45ee",
   "metadata": {},
   "source": [
    "we can see the difference between these two cross validation in the figure  below"
   ]
  },
  {
   "cell_type": "code",
   "execution_count": 16,
   "id": "fa1e8863",
   "metadata": {},
   "outputs": [
    {
     "data": {
      "image/png": "[encoded data removed]",
      "text/plain": [
       "<Figure size 864x360 with 2 Axes>"
      ]
     },
     "metadata": {
      "needs_background": "light"
     },
     "output_type": "display_data"
    }
   ],
   "source": []
  },
  {
   "cell_type": "code",
   "execution_count": 10,
   "id": "1162eb0c",
   "metadata": {},
   "outputs": [],
   "source": [
    "\n",
    "model = RandomForestRegressor() # this is my model with all default parameter\n",
    "my_pipeline = Pipeline(steps=[('preprocessor', preprocessor),  # ceating my pipeline  and passing  two steps\n",
    "                                  ('model', model)\n",
    "                                 ])\n",
    "scores = cross_val_score(my_pipeline, X, y,   # cv=kfold denote stratified cross validation\n",
    "                                  cv=kfold,\n",
    "                                  scoring='r2')\n",
    "   \n",
    "\n"
   ]
  },
  {
   "cell_type": "code",
   "execution_count": 11,
   "id": "9c928559",
   "metadata": {},
   "outputs": [
    {
     "name": "stdout",
     "output_type": "stream",
     "text": [
      "r 2 scores:\n",
      " 0.7942884009123896\n"
     ]
    }
   ],
   "source": [
    "import numpy as np\n",
    "print(\"r 2 scores:\\n\", np.mean(scores))"
   ]
  },
  {
   "cell_type": "markdown",
   "id": "40437ce4",
   "metadata": {},
   "source": [
    "# Hypertunning the  model"
   ]
  },
  {
   "cell_type": "code",
   "execution_count": 12,
   "id": "77fa8b84",
   "metadata": {},
   "outputs": [],
   "source": [
    "params={'model__n_estimators':[int(x) for x in np.linspace(100,1000,10)]} # i have used only one parameter beacause of my laptop low ci=omputing power .\n",
    "\n",
    "        \n",
    "        \n",
    "        "
   ]
  },
  {
   "cell_type": "code",
   "execution_count": 13,
   "id": "093e7e0d",
   "metadata": {},
   "outputs": [],
   "source": [
    "model = RandomForestRegressor()\n",
    "my_pipeline = Pipeline(steps=[('preprocessor', preprocessor),\n",
    "                                  ('model', model)\n",
    "                                 ])\n",
    "\n",
    "#scores = cross_val_score(my_pipeline, X, y,cv=kfold,scoring='r2')\n",
    "random_search=RandomizedSearchCV(my_pipeline,param_distributions=params,n_iter=5,scoring='r2',\n",
    "                                 n_jobs=-1, cv=kfold,verbose=1)"
   ]
  },
  {
   "cell_type": "code",
   "execution_count": 14,
   "id": "d12062de",
   "metadata": {},
   "outputs": [
    {
     "name": "stdout",
     "output_type": "stream",
     "text": [
      "Fitting 5 folds for each of 5 candidates, totalling 25 fits\n"
     ]
    },
    {
     "data": {
      "text/plain": [
       "RandomizedSearchCV(cv=KFold(n_splits=5, random_state=0, shuffle=True),\n",
       "                   estimator=Pipeline(steps=[('preprocessor',\n",
       "                                              ColumnTransformer(transformers=[('num',\n",
       "                                                                               SimpleImputer(strategy='median'),\n",
       "                                                                               ['Rooms',\n",
       "                                                                                'Distance',\n",
       "                                                                                'Postcode',\n",
       "                                                                                'Bedroom2',\n",
       "                                                                                'Bathroom',\n",
       "                                                                                'Car',\n",
       "                                                                                'Landsize',\n",
       "                                                                                'BuildingArea',\n",
       "                                                                                'YearBuilt',\n",
       "                                                                                'Lattitude',\n",
       "                                                                                'Longtitude',\n",
       "                                                                                'Propertycount']),\n",
       "                                                                              ('cat',\n",
       "                                                                               Pipeline(steps=[('imputer',\n",
       "                                                                                                SimpleImputer(strategy='most_frequent')),\n",
       "                                                                                               ('onehot',\n",
       "                                                                                                OneHotEncoder(drop='first'))]),\n",
       "                                                                               ['Type',\n",
       "                                                                                'Method',\n",
       "                                                                                'Regionname'])])),\n",
       "                                             ('model',\n",
       "                                              RandomForestRegressor())]),\n",
       "                   n_iter=5, n_jobs=-1,\n",
       "                   param_distributions={'model__n_estimators': [100, 200, 300,\n",
       "                                                                400, 500, 600,\n",
       "                                                                700, 800, 900,\n",
       "                                                                1000]},\n",
       "                   scoring='r2', verbose=1)"
      ]
     },
     "execution_count": 14,
     "metadata": {},
     "output_type": "execute_result"
    }
   ],
   "source": [
    "random_search.fit(X,y) # fitting my model with  random search object"
   ]
  },
  {
   "cell_type": "code",
   "execution_count": 15,
   "id": "f8a7117b",
   "metadata": {},
   "outputs": [
    {
     "data": {
      "text/plain": [
       "{'model__n_estimators': 500}"
      ]
     },
     "execution_count": 15,
     "metadata": {},
     "output_type": "execute_result"
    }
   ],
   "source": [
    "random_search.best_params_  #best parameter"
   ]
  },
  {
   "cell_type": "code",
   "execution_count": 16,
   "id": "28007ec2",
   "metadata": {},
   "outputs": [
    {
     "data": {
      "text/plain": [
       "0.7980423041625861"
      ]
     },
     "execution_count": 16,
     "metadata": {},
     "output_type": "execute_result"
    }
   ],
   "source": [
    "random_search.best_score_"
   ]
  },
  {
   "cell_type": "markdown",
   "id": "d6a34980",
   "metadata": {},
   "source": [
    "# xgboost"
   ]
  },
  {
   "cell_type": "code",
   "execution_count": 18,
   "id": "15a4ce0f",
   "metadata": {},
   "outputs": [],
   "source": [
    "from xgboost import XGBRegressor\n",
    "\n",
    "my_model = XGBRegressor()\n",
    "my_pipeline = Pipeline(steps=[('preprocessor', preprocessor),\n",
    "                                  ('model', my_model)\n",
    "                                 ])\n",
    "scores = cross_val_score(my_pipeline, X, y,\n",
    "                                  cv=kfold,\n",
    "                                  scoring='r2')\n",
    "   "
   ]
  },
  {
   "cell_type": "code",
   "execution_count": 19,
   "id": "014d64cc",
   "metadata": {},
   "outputs": [
    {
     "name": "stdout",
     "output_type": "stream",
     "text": [
      "r 2 scores:\n",
      " 0.8078183277391933\n"
     ]
    }
   ],
   "source": [
    "import numpy as np\n",
    "print(\"r 2 scores:\\n\", np.mean(scores))"
   ]
  },
  {
   "cell_type": "markdown",
   "id": "98c1d1ff",
   "metadata": {},
   "source": [
    "Now i will hypertune above model"
   ]
  },
  {
   "cell_type": "code",
   "execution_count": 20,
   "id": "8b6c5520",
   "metadata": {},
   "outputs": [],
   "source": []
  },
  {
   "cell_type": "markdown",
   "id": "bb1ed2fc",
   "metadata": {},
   "source": [
    "# Hyper tunning the model"
   ]
  },
  {
   "cell_type": "code",
   "execution_count": 34,
   "id": "8f958572",
   "metadata": {},
   "outputs": [],
   "source": [
    "#randmise cv\n",
    "params={\n",
    "    'model__n_estimators':[100,200,300,400,500,600,700,800,900,1000 ],\n",
    "     'model__learning_rate':[0.01,0.02,0.03,0.04,0.05]\n",
    "    \n",
    "}"
   ]
  },
  {
   "cell_type": "code",
   "execution_count": 35,
   "id": "792ad7c2",
   "metadata": {},
   "outputs": [],
   "source": [
    "model = XGBRegressor()\n",
    "my_pipeline = Pipeline(steps=[('preprocessor', preprocessor),\n",
    "                                  ('model', model)\n",
    "                                 ])\n",
    "\n",
    "#scores = cross_val_score(my_pipeline, X, y,cv=kfold,scoring='r2')\n",
    "random_search=RandomizedSearchCV(my_pipeline,param_distributions=params,n_iter=5,scoring='r2',\n",
    "                                 n_jobs=-1, cv=kfold,verbose=1)"
   ]
  },
  {
   "cell_type": "code",
   "execution_count": null,
   "id": "731dc0cd",
   "metadata": {},
   "outputs": [],
   "source": []
  },
  {
   "cell_type": "code",
   "execution_count": 36,
   "id": "5064e29d",
   "metadata": {},
   "outputs": [
    {
     "name": "stdout",
     "output_type": "stream",
     "text": [
      "Fitting 5 folds for each of 5 candidates, totalling 25 fits\n"
     ]
    },
    {
     "data": {
      "text/plain": [
       "RandomizedSearchCV(cv=KFold(n_splits=5, random_state=0, shuffle=True),\n",
       "                   estimator=Pipeline(steps=[('preprocessor',\n",
       "                                              ColumnTransformer(transformers=[('num',\n",
       "                                                                               SimpleImputer(strategy='median'),\n",
       "                                                                               ['Rooms',\n",
       "                                                                                'Distance',\n",
       "                                                                                'Postcode',\n",
       "                                                                                'Bedroom2',\n",
       "                                                                                'Bathroom',\n",
       "                                                                                'Car',\n",
       "                                                                                'Landsize',\n",
       "                                                                                'BuildingArea',\n",
       "                                                                                'YearBuilt',\n",
       "                                                                                'Lattitude',\n",
       "                                                                                'Longtitude',\n",
       "                                                                                'Propertycount']),\n",
       "                                                                              ('cat',\n",
       "                                                                               Pipeline(steps=[('imp...\n",
       "                                                           n_jobs=None,\n",
       "                                                           num_parallel_tree=None,\n",
       "                                                           random_state=None,\n",
       "                                                           reg_alpha=None,\n",
       "                                                           reg_lambda=None,\n",
       "                                                           scale_pos_weight=None,\n",
       "                                                           subsample=None,\n",
       "                                                           tree_method=None,\n",
       "                                                           validate_parameters=None,\n",
       "                                                           verbosity=None))]),\n",
       "                   n_iter=5, n_jobs=-1,\n",
       "                   param_distributions={'model__learning_rate': [0.01, 0.02,\n",
       "                                                                 0.03, 0.04,\n",
       "                                                                 0.05],\n",
       "                                        'model__n_estimators': [100, 200, 300,\n",
       "                                                                400, 500, 600,\n",
       "                                                                700, 800, 900,\n",
       "                                                                1000]},\n",
       "                   scoring='r2', verbose=1)"
      ]
     },
     "execution_count": 36,
     "metadata": {},
     "output_type": "execute_result"
    }
   ],
   "source": [
    "random_search.fit(X,y) # fitting my model with  random search object"
   ]
  },
  {
   "cell_type": "code",
   "execution_count": 37,
   "id": "b1dad038",
   "metadata": {},
   "outputs": [
    {
     "data": {
      "text/plain": [
       "{'model__n_estimators': 500, 'model__learning_rate': 0.04}"
      ]
     },
     "execution_count": 37,
     "metadata": {},
     "output_type": "execute_result"
    }
   ],
   "source": [
    "random_search.best_params_   # best parameter"
   ]
  },
  {
   "cell_type": "code",
   "execution_count": 38,
   "id": "5f8f2674",
   "metadata": {},
   "outputs": [
    {
     "data": {
      "text/plain": [
       "0.8198212797125034"
      ]
     },
     "execution_count": 38,
     "metadata": {},
     "output_type": "execute_result"
    }
   ],
   "source": [
    "random_search.best_score_  # best score"
   ]
  }
 ],
 "metadata": {
  "kernelspec": {
   "display_name": "Python 3",
   "language": "python",
   "name": "python3"
  },
  "language_info": {
   "codemirror_mode": {
    "name": "ipython",
    "version": 3
   },
   "file_extension": ".py",
   "mimetype": "text/x-python",
   "name": "python",
   "nbconvert_exporter": "python",
   "pygments_lexer": "ipython3",
   "version": "3.8.8"
  }
 },
 "nbformat": 4,
 "nbformat_minor": 5
}
