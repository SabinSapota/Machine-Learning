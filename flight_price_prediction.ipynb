{
  "nbformat": 4,
  "nbformat_minor": 0,
  "metadata": {
    "colab": {
      "name": "flight price prediction.ipynb",
      "provenance": [],
      "authorship_tag": "ABX9TyMNAPCDTaxquHBUcfSmorNv",
      "include_colab_link": true
    },
    "kernelspec": {
      "name": "python3",
      "display_name": "Python 3"
    },
    "language_info": {
      "name": "python"
    }
  },
  "cells": [
    {
      "cell_type": "markdown",
      "metadata": {
        "id": "view-in-github",
        "colab_type": "text"
      },
      "source": [
        "<a href=\"https://colab.research.google.com/github/SabinSapota/Machine-Learning/blob/main/flight_price_prediction.ipynb\" target=\"_parent\"><img src=\"https://colab.research.google.com/assets/colab-badge.svg\" alt=\"Open In Colab\"/></a>"
      ]
    },
    {
      "cell_type": "markdown",
      "metadata": {
        "id": "qJX-D6blvYVV"
      },
      "source": [
        "**Flight price Prediction**"
      ]
    },
    {
      "cell_type": "code",
      "metadata": {
        "id": "ooA1d4G0rP8V"
      },
      "source": [
        "import pandas as pd\n",
        "pd.set_option('display.max_columns',35)\n"
      ],
      "execution_count": 1,
      "outputs": []
    },
    {
      "cell_type": "code",
      "metadata": {
        "colab": {
          "base_uri": "https://localhost:8080/"
        },
        "id": "rppQFOh8rQAW",
        "outputId": "43785f77-5e7d-40cd-a5d2-c480b2de480b"
      },
      "source": [
        "from google.colab import drive\n",
        "drive.mount('/content/drive')"
      ],
      "execution_count": 2,
      "outputs": [
        {
          "output_type": "stream",
          "text": [
            "Mounted at /content/drive\n"
          ],
          "name": "stdout"
        }
      ]
    },
    {
      "cell_type": "code",
      "metadata": {
        "colab": {
          "base_uri": "https://localhost:8080/",
          "height": 202
        },
        "id": "XqDUfYulrQDx",
        "outputId": "0cd661cb-8e83-4f63-c122-0a30a6b43052"
      },
      "source": [
        "df=pd.read_excel('/content/drive/MyDrive/spam/Data_Train.xlsx')\n",
        "df.head()"
      ],
      "execution_count": 105,
      "outputs": [
        {
          "output_type": "execute_result",
          "data": {
            "text/html": [
              "<div>\n",
              "<style scoped>\n",
              "    .dataframe tbody tr th:only-of-type {\n",
              "        vertical-align: middle;\n",
              "    }\n",
              "\n",
              "    .dataframe tbody tr th {\n",
              "        vertical-align: top;\n",
              "    }\n",
              "\n",
              "    .dataframe thead th {\n",
              "        text-align: right;\n",
              "    }\n",
              "</style>\n",
              "<table border=\"1\" class=\"dataframe\">\n",
              "  <thead>\n",
              "    <tr style=\"text-align: right;\">\n",
              "      <th></th>\n",
              "      <th>Airline</th>\n",
              "      <th>Date_of_Journey</th>\n",
              "      <th>Source</th>\n",
              "      <th>Destination</th>\n",
              "      <th>Route</th>\n",
              "      <th>Dep_Time</th>\n",
              "      <th>Arrival_Time</th>\n",
              "      <th>Duration</th>\n",
              "      <th>Total_Stops</th>\n",
              "      <th>Additional_Info</th>\n",
              "      <th>Price</th>\n",
              "    </tr>\n",
              "  </thead>\n",
              "  <tbody>\n",
              "    <tr>\n",
              "      <th>0</th>\n",
              "      <td>IndiGo</td>\n",
              "      <td>24/03/2019</td>\n",
              "      <td>Banglore</td>\n",
              "      <td>New Delhi</td>\n",
              "      <td>BLR → DEL</td>\n",
              "      <td>22:20</td>\n",
              "      <td>01:10 22 Mar</td>\n",
              "      <td>2h 50m</td>\n",
              "      <td>non-stop</td>\n",
              "      <td>No info</td>\n",
              "      <td>3897</td>\n",
              "    </tr>\n",
              "    <tr>\n",
              "      <th>1</th>\n",
              "      <td>Air India</td>\n",
              "      <td>1/05/2019</td>\n",
              "      <td>Kolkata</td>\n",
              "      <td>Banglore</td>\n",
              "      <td>CCU → IXR → BBI → BLR</td>\n",
              "      <td>05:50</td>\n",
              "      <td>13:15</td>\n",
              "      <td>7h 25m</td>\n",
              "      <td>2 stops</td>\n",
              "      <td>No info</td>\n",
              "      <td>7662</td>\n",
              "    </tr>\n",
              "    <tr>\n",
              "      <th>2</th>\n",
              "      <td>Jet Airways</td>\n",
              "      <td>9/06/2019</td>\n",
              "      <td>Delhi</td>\n",
              "      <td>Cochin</td>\n",
              "      <td>DEL → LKO → BOM → COK</td>\n",
              "      <td>09:25</td>\n",
              "      <td>04:25 10 Jun</td>\n",
              "      <td>19h</td>\n",
              "      <td>2 stops</td>\n",
              "      <td>No info</td>\n",
              "      <td>13882</td>\n",
              "    </tr>\n",
              "    <tr>\n",
              "      <th>3</th>\n",
              "      <td>IndiGo</td>\n",
              "      <td>12/05/2019</td>\n",
              "      <td>Kolkata</td>\n",
              "      <td>Banglore</td>\n",
              "      <td>CCU → NAG → BLR</td>\n",
              "      <td>18:05</td>\n",
              "      <td>23:30</td>\n",
              "      <td>5h 25m</td>\n",
              "      <td>1 stop</td>\n",
              "      <td>No info</td>\n",
              "      <td>6218</td>\n",
              "    </tr>\n",
              "    <tr>\n",
              "      <th>4</th>\n",
              "      <td>IndiGo</td>\n",
              "      <td>01/03/2019</td>\n",
              "      <td>Banglore</td>\n",
              "      <td>New Delhi</td>\n",
              "      <td>BLR → NAG → DEL</td>\n",
              "      <td>16:50</td>\n",
              "      <td>21:35</td>\n",
              "      <td>4h 45m</td>\n",
              "      <td>1 stop</td>\n",
              "      <td>No info</td>\n",
              "      <td>13302</td>\n",
              "    </tr>\n",
              "  </tbody>\n",
              "</table>\n",
              "</div>"
            ],
            "text/plain": [
              "       Airline Date_of_Journey    Source Destination                  Route  \\\n",
              "0       IndiGo      24/03/2019  Banglore   New Delhi              BLR → DEL   \n",
              "1    Air India       1/05/2019   Kolkata    Banglore  CCU → IXR → BBI → BLR   \n",
              "2  Jet Airways       9/06/2019     Delhi      Cochin  DEL → LKO → BOM → COK   \n",
              "3       IndiGo      12/05/2019   Kolkata    Banglore        CCU → NAG → BLR   \n",
              "4       IndiGo      01/03/2019  Banglore   New Delhi        BLR → NAG → DEL   \n",
              "\n",
              "  Dep_Time  Arrival_Time Duration Total_Stops Additional_Info  Price  \n",
              "0    22:20  01:10 22 Mar   2h 50m    non-stop         No info   3897  \n",
              "1    05:50         13:15   7h 25m     2 stops         No info   7662  \n",
              "2    09:25  04:25 10 Jun      19h     2 stops         No info  13882  \n",
              "3    18:05         23:30   5h 25m      1 stop         No info   6218  \n",
              "4    16:50         21:35   4h 45m      1 stop         No info  13302  "
            ]
          },
          "metadata": {
            "tags": []
          },
          "execution_count": 105
        }
      ]
    },
    {
      "cell_type": "code",
      "metadata": {
        "colab": {
          "base_uri": "https://localhost:8080/"
        },
        "id": "c3YE1orxrQJP",
        "outputId": "ce418a8c-e09c-4d9e-f5e5-73ea983787ff"
      },
      "source": [
        "df.dtypes"
      ],
      "execution_count": null,
      "outputs": [
        {
          "output_type": "execute_result",
          "data": {
            "text/plain": [
              "Airline            object\n",
              "Date_of_Journey    object\n",
              "Source             object\n",
              "Destination        object\n",
              "Route              object\n",
              "Dep_Time           object\n",
              "Arrival_Time       object\n",
              "Duration           object\n",
              "Total_Stops        object\n",
              "Additional_Info    object\n",
              "Price               int64\n",
              "dtype: object"
            ]
          },
          "metadata": {
            "tags": []
          },
          "execution_count": 75
        }
      ]
    },
    {
      "cell_type": "code",
      "metadata": {
        "colab": {
          "base_uri": "https://localhost:8080/"
        },
        "id": "n87jh9YvrQL_",
        "outputId": "a00428fd-2252-446e-d8ab-6642922b2379"
      },
      "source": [
        "# columns with missing value\n",
        "[col for col in df.columns if df[col].isna().any()]"
      ],
      "execution_count": null,
      "outputs": [
        {
          "output_type": "execute_result",
          "data": {
            "text/plain": [
              "['Route', 'Total_Stops']"
            ]
          },
          "metadata": {
            "tags": []
          },
          "execution_count": 76
        }
      ]
    },
    {
      "cell_type": "code",
      "metadata": {
        "colab": {
          "base_uri": "https://localhost:8080/"
        },
        "id": "-Ooiz8LPrQOT",
        "outputId": "0df5fd5a-81a3-47d7-be38-62257fe57b63"
      },
      "source": [
        "# unique value in each column\n",
        "df.apply(lambda x:len(x.unique()))"
      ],
      "execution_count": null,
      "outputs": [
        {
          "output_type": "execute_result",
          "data": {
            "text/plain": [
              "Airline              12\n",
              "Date_of_Journey      44\n",
              "Source                5\n",
              "Destination           6\n",
              "Route               129\n",
              "Dep_Time            222\n",
              "Arrival_Time       1343\n",
              "Duration            368\n",
              "Total_Stops           6\n",
              "Additional_Info      10\n",
              "Price              1870\n",
              "dtype: int64"
            ]
          },
          "metadata": {
            "tags": []
          },
          "execution_count": 77
        }
      ]
    },
    {
      "cell_type": "code",
      "metadata": {
        "id": "chleKFdQtz3u"
      },
      "source": [
        "df['Date_of_Journey'] =pd.to_datetime(df.Date_of_Journey)   # changing to date/time format\n",
        "df['Arrival_Time']=pd.to_datetime(df.Arrival_Time)\n",
        "df['Dep_Time']=pd.to_datetime(df.Dep_Time)\n"
      ],
      "execution_count": 106,
      "outputs": []
    },
    {
      "cell_type": "code",
      "metadata": {
        "id": "H02AgreNrQRP"
      },
      "source": [
        "df['journey_month']=df.Date_of_Journey.dt.month  # extarcting month\n",
        "df['journey_day']=df.Date_of_Journey.dt.day # extracting day"
      ],
      "execution_count": 107,
      "outputs": []
    },
    {
      "cell_type": "code",
      "metadata": {
        "id": "Vi3VGmbDrQY2"
      },
      "source": [
        "df.drop('Date_of_Journey',axis=1,inplace=True) # droping "
      ],
      "execution_count": 108,
      "outputs": []
    },
    {
      "cell_type": "code",
      "metadata": {
        "id": "p1iRNI90rQbj"
      },
      "source": [
        "df=df.dropna()"
      ],
      "execution_count": 109,
      "outputs": []
    },
    {
      "cell_type": "code",
      "metadata": {
        "colab": {
          "base_uri": "https://localhost:8080/"
        },
        "id": "JMtsf0ZAV5S5",
        "outputId": "ce84958f-4e32-44af-908c-af6ef33aed17"
      },
      "source": [
        "df.isna().sum()  # check for nan"
      ],
      "execution_count": 9,
      "outputs": [
        {
          "output_type": "execute_result",
          "data": {
            "text/plain": [
              "Airline            0\n",
              "Source             0\n",
              "Destination        0\n",
              "Route              0\n",
              "Dep_Time           0\n",
              "Arrival_Time       0\n",
              "Duration           0\n",
              "Total_Stops        0\n",
              "Additional_Info    0\n",
              "Price              0\n",
              "journey_month      0\n",
              "journey_day        0\n",
              "dtype: int64"
            ]
          },
          "metadata": {
            "tags": []
          },
          "execution_count": 9
        }
      ]
    },
    {
      "cell_type": "code",
      "metadata": {
        "colab": {
          "base_uri": "https://localhost:8080/",
          "height": 202
        },
        "id": "8y2GHI5xrQeH",
        "outputId": "3bd80c98-697a-4ea7-c7ca-44329565e078"
      },
      "source": [
        "df.head()"
      ],
      "execution_count": 10,
      "outputs": [
        {
          "output_type": "execute_result",
          "data": {
            "text/html": [
              "<div>\n",
              "<style scoped>\n",
              "    .dataframe tbody tr th:only-of-type {\n",
              "        vertical-align: middle;\n",
              "    }\n",
              "\n",
              "    .dataframe tbody tr th {\n",
              "        vertical-align: top;\n",
              "    }\n",
              "\n",
              "    .dataframe thead th {\n",
              "        text-align: right;\n",
              "    }\n",
              "</style>\n",
              "<table border=\"1\" class=\"dataframe\">\n",
              "  <thead>\n",
              "    <tr style=\"text-align: right;\">\n",
              "      <th></th>\n",
              "      <th>Airline</th>\n",
              "      <th>Source</th>\n",
              "      <th>Destination</th>\n",
              "      <th>Route</th>\n",
              "      <th>Dep_Time</th>\n",
              "      <th>Arrival_Time</th>\n",
              "      <th>Duration</th>\n",
              "      <th>Total_Stops</th>\n",
              "      <th>Additional_Info</th>\n",
              "      <th>Price</th>\n",
              "      <th>journey_month</th>\n",
              "      <th>journey_day</th>\n",
              "    </tr>\n",
              "  </thead>\n",
              "  <tbody>\n",
              "    <tr>\n",
              "      <th>0</th>\n",
              "      <td>IndiGo</td>\n",
              "      <td>Banglore</td>\n",
              "      <td>New Delhi</td>\n",
              "      <td>BLR → DEL</td>\n",
              "      <td>2021-07-22 22:20:00</td>\n",
              "      <td>2021-03-22 01:10:00</td>\n",
              "      <td>2h 50m</td>\n",
              "      <td>non-stop</td>\n",
              "      <td>No info</td>\n",
              "      <td>3897</td>\n",
              "      <td>3</td>\n",
              "      <td>24</td>\n",
              "    </tr>\n",
              "    <tr>\n",
              "      <th>1</th>\n",
              "      <td>Air India</td>\n",
              "      <td>Kolkata</td>\n",
              "      <td>Banglore</td>\n",
              "      <td>CCU → IXR → BBI → BLR</td>\n",
              "      <td>2021-07-22 05:50:00</td>\n",
              "      <td>2021-07-22 13:15:00</td>\n",
              "      <td>7h 25m</td>\n",
              "      <td>2 stops</td>\n",
              "      <td>No info</td>\n",
              "      <td>7662</td>\n",
              "      <td>1</td>\n",
              "      <td>5</td>\n",
              "    </tr>\n",
              "    <tr>\n",
              "      <th>2</th>\n",
              "      <td>Jet Airways</td>\n",
              "      <td>Delhi</td>\n",
              "      <td>Cochin</td>\n",
              "      <td>DEL → LKO → BOM → COK</td>\n",
              "      <td>2021-07-22 09:25:00</td>\n",
              "      <td>2021-06-10 04:25:00</td>\n",
              "      <td>19h</td>\n",
              "      <td>2 stops</td>\n",
              "      <td>No info</td>\n",
              "      <td>13882</td>\n",
              "      <td>9</td>\n",
              "      <td>6</td>\n",
              "    </tr>\n",
              "    <tr>\n",
              "      <th>3</th>\n",
              "      <td>IndiGo</td>\n",
              "      <td>Kolkata</td>\n",
              "      <td>Banglore</td>\n",
              "      <td>CCU → NAG → BLR</td>\n",
              "      <td>2021-07-22 18:05:00</td>\n",
              "      <td>2021-07-22 23:30:00</td>\n",
              "      <td>5h 25m</td>\n",
              "      <td>1 stop</td>\n",
              "      <td>No info</td>\n",
              "      <td>6218</td>\n",
              "      <td>12</td>\n",
              "      <td>5</td>\n",
              "    </tr>\n",
              "    <tr>\n",
              "      <th>4</th>\n",
              "      <td>IndiGo</td>\n",
              "      <td>Banglore</td>\n",
              "      <td>New Delhi</td>\n",
              "      <td>BLR → NAG → DEL</td>\n",
              "      <td>2021-07-22 16:50:00</td>\n",
              "      <td>2021-07-22 21:35:00</td>\n",
              "      <td>4h 45m</td>\n",
              "      <td>1 stop</td>\n",
              "      <td>No info</td>\n",
              "      <td>13302</td>\n",
              "      <td>1</td>\n",
              "      <td>3</td>\n",
              "    </tr>\n",
              "  </tbody>\n",
              "</table>\n",
              "</div>"
            ],
            "text/plain": [
              "       Airline    Source Destination                  Route  \\\n",
              "0       IndiGo  Banglore   New Delhi              BLR → DEL   \n",
              "1    Air India   Kolkata    Banglore  CCU → IXR → BBI → BLR   \n",
              "2  Jet Airways     Delhi      Cochin  DEL → LKO → BOM → COK   \n",
              "3       IndiGo   Kolkata    Banglore        CCU → NAG → BLR   \n",
              "4       IndiGo  Banglore   New Delhi        BLR → NAG → DEL   \n",
              "\n",
              "             Dep_Time        Arrival_Time Duration Total_Stops  \\\n",
              "0 2021-07-22 22:20:00 2021-03-22 01:10:00   2h 50m    non-stop   \n",
              "1 2021-07-22 05:50:00 2021-07-22 13:15:00   7h 25m     2 stops   \n",
              "2 2021-07-22 09:25:00 2021-06-10 04:25:00      19h     2 stops   \n",
              "3 2021-07-22 18:05:00 2021-07-22 23:30:00   5h 25m      1 stop   \n",
              "4 2021-07-22 16:50:00 2021-07-22 21:35:00   4h 45m      1 stop   \n",
              "\n",
              "  Additional_Info  Price  journey_month  journey_day  \n",
              "0         No info   3897              3           24  \n",
              "1         No info   7662              1            5  \n",
              "2         No info  13882              9            6  \n",
              "3         No info   6218             12            5  \n",
              "4         No info  13302              1            3  "
            ]
          },
          "metadata": {
            "tags": []
          },
          "execution_count": 10
        }
      ]
    },
    {
      "cell_type": "code",
      "metadata": {
        "id": "vd8XietWvpUA"
      },
      "source": [
        "df['dep_hour']=df['Dep_Time'].dt.hour\n",
        "df['dep_min']=df['Dep_Time'].dt.minute"
      ],
      "execution_count": 110,
      "outputs": []
    },
    {
      "cell_type": "code",
      "metadata": {
        "id": "ceQDY-KWvpYK"
      },
      "source": [
        "df['arrive_hour']=df['Arrival_Time'].dt.hour\n",
        "df['arrive_min']=df['Arrival_Time'].dt.minute"
      ],
      "execution_count": 111,
      "outputs": []
    },
    {
      "cell_type": "code",
      "metadata": {
        "id": "SJPTu0qivpbZ"
      },
      "source": [
        "df.drop(['Arrival_Time','Dep_Time'],axis=1,inplace=True)"
      ],
      "execution_count": 112,
      "outputs": []
    },
    {
      "cell_type": "code",
      "metadata": {
        "colab": {
          "base_uri": "https://localhost:8080/",
          "height": 110
        },
        "id": "Z8CUza9mvpeh",
        "outputId": "bd08b100-971d-4fda-ef73-e29f8bd343f7"
      },
      "source": [
        "df.head(2)"
      ],
      "execution_count": 14,
      "outputs": [
        {
          "output_type": "execute_result",
          "data": {
            "text/html": [
              "<div>\n",
              "<style scoped>\n",
              "    .dataframe tbody tr th:only-of-type {\n",
              "        vertical-align: middle;\n",
              "    }\n",
              "\n",
              "    .dataframe tbody tr th {\n",
              "        vertical-align: top;\n",
              "    }\n",
              "\n",
              "    .dataframe thead th {\n",
              "        text-align: right;\n",
              "    }\n",
              "</style>\n",
              "<table border=\"1\" class=\"dataframe\">\n",
              "  <thead>\n",
              "    <tr style=\"text-align: right;\">\n",
              "      <th></th>\n",
              "      <th>Airline</th>\n",
              "      <th>Source</th>\n",
              "      <th>Destination</th>\n",
              "      <th>Route</th>\n",
              "      <th>Duration</th>\n",
              "      <th>Total_Stops</th>\n",
              "      <th>Additional_Info</th>\n",
              "      <th>Price</th>\n",
              "      <th>journey_month</th>\n",
              "      <th>journey_day</th>\n",
              "      <th>dep_hour</th>\n",
              "      <th>dep_min</th>\n",
              "      <th>arrive_hour</th>\n",
              "      <th>arrive_min</th>\n",
              "    </tr>\n",
              "  </thead>\n",
              "  <tbody>\n",
              "    <tr>\n",
              "      <th>0</th>\n",
              "      <td>IndiGo</td>\n",
              "      <td>Banglore</td>\n",
              "      <td>New Delhi</td>\n",
              "      <td>BLR → DEL</td>\n",
              "      <td>2h 50m</td>\n",
              "      <td>non-stop</td>\n",
              "      <td>No info</td>\n",
              "      <td>3897</td>\n",
              "      <td>3</td>\n",
              "      <td>24</td>\n",
              "      <td>22</td>\n",
              "      <td>20</td>\n",
              "      <td>1</td>\n",
              "      <td>10</td>\n",
              "    </tr>\n",
              "    <tr>\n",
              "      <th>1</th>\n",
              "      <td>Air India</td>\n",
              "      <td>Kolkata</td>\n",
              "      <td>Banglore</td>\n",
              "      <td>CCU → IXR → BBI → BLR</td>\n",
              "      <td>7h 25m</td>\n",
              "      <td>2 stops</td>\n",
              "      <td>No info</td>\n",
              "      <td>7662</td>\n",
              "      <td>1</td>\n",
              "      <td>5</td>\n",
              "      <td>5</td>\n",
              "      <td>50</td>\n",
              "      <td>13</td>\n",
              "      <td>15</td>\n",
              "    </tr>\n",
              "  </tbody>\n",
              "</table>\n",
              "</div>"
            ],
            "text/plain": [
              "     Airline    Source Destination                  Route Duration  \\\n",
              "0     IndiGo  Banglore   New Delhi              BLR → DEL   2h 50m   \n",
              "1  Air India   Kolkata    Banglore  CCU → IXR → BBI → BLR   7h 25m   \n",
              "\n",
              "  Total_Stops Additional_Info  Price  journey_month  journey_day  dep_hour  \\\n",
              "0    non-stop         No info   3897              3           24        22   \n",
              "1     2 stops         No info   7662              1            5         5   \n",
              "\n",
              "   dep_min  arrive_hour  arrive_min  \n",
              "0       20            1          10  \n",
              "1       50           13          15  "
            ]
          },
          "metadata": {
            "tags": []
          },
          "execution_count": 14
        }
      ]
    },
    {
      "cell_type": "code",
      "metadata": {
        "id": "EdN798eD0sEr",
        "colab": {
          "base_uri": "https://localhost:8080/"
        },
        "outputId": "e8429730-3641-4153-faf7-9830eb4fe939"
      },
      "source": [
        "df.Duration"
      ],
      "execution_count": 15,
      "outputs": [
        {
          "output_type": "execute_result",
          "data": {
            "text/plain": [
              "0        2h 50m\n",
              "1        7h 25m\n",
              "2           19h\n",
              "3        5h 25m\n",
              "4        4h 45m\n",
              "          ...  \n",
              "10678    2h 30m\n",
              "10679    2h 35m\n",
              "10680        3h\n",
              "10681    2h 40m\n",
              "10682    8h 20m\n",
              "Name: Duration, Length: 10682, dtype: object"
            ]
          },
          "metadata": {
            "tags": []
          },
          "execution_count": 15
        }
      ]
    },
    {
      "cell_type": "code",
      "metadata": {
        "id": "AYza9xEfvpgz"
      },
      "source": [
        "# here we need to change format of the duration column into proper so that machine can understand\n",
        "duration=list(df.Duration)\n",
        "for i in range(len(duration)):\n",
        "  if len(duration[i].split(' '))==2:\n",
        "    pass\n",
        "  else:\n",
        "     if 'h' in duration[i]:\n",
        "       duration[i]=duration[i]+' 0m'\n",
        "     else:\n",
        "        duration[i]='0h '+duration[i]\n"
      ],
      "execution_count": 113,
      "outputs": []
    },
    {
      "cell_type": "code",
      "metadata": {
        "id": "dvUq86TZvpje"
      },
      "source": [
        "df['Duration']=duration  # after looing assigning to original column"
      ],
      "execution_count": 114,
      "outputs": []
    },
    {
      "cell_type": "code",
      "metadata": {
        "id": "B9Jsnw-NvpmR",
        "colab": {
          "base_uri": "https://localhost:8080/"
        },
        "outputId": "4862ded1-7478-4af0-d509-f135156e358d"
      },
      "source": [
        "df.Duration"
      ],
      "execution_count": 18,
      "outputs": [
        {
          "output_type": "execute_result",
          "data": {
            "text/plain": [
              "0        2h 50m\n",
              "1        7h 25m\n",
              "2        19h 0m\n",
              "3        5h 25m\n",
              "4        4h 45m\n",
              "          ...  \n",
              "10678    2h 30m\n",
              "10679    2h 35m\n",
              "10680     3h 0m\n",
              "10681    2h 40m\n",
              "10682    8h 20m\n",
              "Name: Duration, Length: 10682, dtype: object"
            ]
          },
          "metadata": {
            "tags": []
          },
          "execution_count": 18
        }
      ]
    },
    {
      "cell_type": "code",
      "metadata": {
        "id": "YLaA37MZvpwM"
      },
      "source": [
        "df['duration_hr']=df.Duration.apply(lambda x:x.split(' ')[0][0:-1])  # extracting hour from duation column\n",
        "df['duration_min']=df.Duration.apply(lambda x:x.split(' ')[1][0:-1])  # extracting minute from duration column"
      ],
      "execution_count": 115,
      "outputs": []
    },
    {
      "cell_type": "code",
      "metadata": {
        "id": "nytKk0xLvpyt",
        "colab": {
          "base_uri": "https://localhost:8080/",
          "height": 394
        },
        "outputId": "7bded089-b6a5-4a95-870e-67b7b90e880e"
      },
      "source": [
        "df.head(3)"
      ],
      "execution_count": 20,
      "outputs": [
        {
          "output_type": "execute_result",
          "data": {
            "text/html": [
              "<div>\n",
              "<style scoped>\n",
              "    .dataframe tbody tr th:only-of-type {\n",
              "        vertical-align: middle;\n",
              "    }\n",
              "\n",
              "    .dataframe tbody tr th {\n",
              "        vertical-align: top;\n",
              "    }\n",
              "\n",
              "    .dataframe thead th {\n",
              "        text-align: right;\n",
              "    }\n",
              "</style>\n",
              "<table border=\"1\" class=\"dataframe\">\n",
              "  <thead>\n",
              "    <tr style=\"text-align: right;\">\n",
              "      <th></th>\n",
              "      <th>Airline</th>\n",
              "      <th>Source</th>\n",
              "      <th>Destination</th>\n",
              "      <th>Route</th>\n",
              "      <th>Duration</th>\n",
              "      <th>Total_Stops</th>\n",
              "      <th>Additional_Info</th>\n",
              "      <th>Price</th>\n",
              "      <th>journey_month</th>\n",
              "      <th>journey_day</th>\n",
              "      <th>dep_hour</th>\n",
              "      <th>dep_min</th>\n",
              "      <th>arrive_hour</th>\n",
              "      <th>arrive_min</th>\n",
              "      <th>duration_hr</th>\n",
              "      <th>duration_min</th>\n",
              "    </tr>\n",
              "  </thead>\n",
              "  <tbody>\n",
              "    <tr>\n",
              "      <th>0</th>\n",
              "      <td>IndiGo</td>\n",
              "      <td>Banglore</td>\n",
              "      <td>New Delhi</td>\n",
              "      <td>BLR → DEL</td>\n",
              "      <td>2h 50m</td>\n",
              "      <td>non-stop</td>\n",
              "      <td>No info</td>\n",
              "      <td>3897</td>\n",
              "      <td>3</td>\n",
              "      <td>24</td>\n",
              "      <td>22</td>\n",
              "      <td>20</td>\n",
              "      <td>1</td>\n",
              "      <td>10</td>\n",
              "      <td>2</td>\n",
              "      <td>50</td>\n",
              "    </tr>\n",
              "    <tr>\n",
              "      <th>1</th>\n",
              "      <td>Air India</td>\n",
              "      <td>Kolkata</td>\n",
              "      <td>Banglore</td>\n",
              "      <td>CCU → IXR → BBI → BLR</td>\n",
              "      <td>7h 25m</td>\n",
              "      <td>2 stops</td>\n",
              "      <td>No info</td>\n",
              "      <td>7662</td>\n",
              "      <td>1</td>\n",
              "      <td>5</td>\n",
              "      <td>5</td>\n",
              "      <td>50</td>\n",
              "      <td>13</td>\n",
              "      <td>15</td>\n",
              "      <td>7</td>\n",
              "      <td>25</td>\n",
              "    </tr>\n",
              "    <tr>\n",
              "      <th>2</th>\n",
              "      <td>Jet Airways</td>\n",
              "      <td>Delhi</td>\n",
              "      <td>Cochin</td>\n",
              "      <td>DEL → LKO → BOM → COK</td>\n",
              "      <td>19h 0m</td>\n",
              "      <td>2 stops</td>\n",
              "      <td>No info</td>\n",
              "      <td>13882</td>\n",
              "      <td>9</td>\n",
              "      <td>6</td>\n",
              "      <td>9</td>\n",
              "      <td>25</td>\n",
              "      <td>4</td>\n",
              "      <td>25</td>\n",
              "      <td>19</td>\n",
              "      <td>0</td>\n",
              "    </tr>\n",
              "  </tbody>\n",
              "</table>\n",
              "</div>"
            ],
            "text/plain": [
              "       Airline    Source Destination                  Route Duration  \\\n",
              "0       IndiGo  Banglore   New Delhi              BLR → DEL   2h 50m   \n",
              "1    Air India   Kolkata    Banglore  CCU → IXR → BBI → BLR   7h 25m   \n",
              "2  Jet Airways     Delhi      Cochin  DEL → LKO → BOM → COK   19h 0m   \n",
              "\n",
              "  Total_Stops Additional_Info  Price  journey_month  journey_day  dep_hour  \\\n",
              "0    non-stop         No info   3897              3           24        22   \n",
              "1     2 stops         No info   7662              1            5         5   \n",
              "2     2 stops         No info  13882              9            6         9   \n",
              "\n",
              "   dep_min  arrive_hour  arrive_min duration_hr duration_min  \n",
              "0       20            1          10           2           50  \n",
              "1       50           13          15           7           25  \n",
              "2       25            4          25          19            0  "
            ]
          },
          "metadata": {
            "tags": []
          },
          "execution_count": 20
        }
      ]
    },
    {
      "cell_type": "code",
      "metadata": {
        "id": "1ITWL6nCvp1I"
      },
      "source": [
        "df.drop('Duration',axis=1,inplace=True)"
      ],
      "execution_count": 116,
      "outputs": []
    },
    {
      "cell_type": "code",
      "metadata": {
        "id": "YHNdhxlnvp32"
      },
      "source": [
        "df.duration_hr=df['duration_hr'].astype(int)   # changing data type\n",
        "df.duration_min=df['duration_min'].astype(int)"
      ],
      "execution_count": 117,
      "outputs": []
    },
    {
      "cell_type": "code",
      "metadata": {
        "id": "cfmREN4xvp6H",
        "colab": {
          "base_uri": "https://localhost:8080/"
        },
        "outputId": "7910a124-ec24-4cc6-933a-6bb4867e9370"
      },
      "source": [
        "df.dtypes"
      ],
      "execution_count": 23,
      "outputs": [
        {
          "output_type": "execute_result",
          "data": {
            "text/plain": [
              "Airline            object\n",
              "Source             object\n",
              "Destination        object\n",
              "Route              object\n",
              "Total_Stops        object\n",
              "Additional_Info    object\n",
              "Price               int64\n",
              "journey_month       int64\n",
              "journey_day         int64\n",
              "dep_hour            int64\n",
              "dep_min             int64\n",
              "arrive_hour         int64\n",
              "arrive_min          int64\n",
              "duration_hr         int64\n",
              "duration_min        int64\n",
              "dtype: object"
            ]
          },
          "metadata": {
            "tags": []
          },
          "execution_count": 23
        }
      ]
    },
    {
      "cell_type": "code",
      "metadata": {
        "id": "SPJMU7NFvp-5",
        "colab": {
          "base_uri": "https://localhost:8080/"
        },
        "outputId": "f0cd4719-76e9-4748-e993-369b17d2d9e0"
      },
      "source": [
        "\n",
        "# categoricals columns\n",
        "cat_col=[col for col in df.columns if df[col].dtype=='O']\n",
        "cat_col"
      ],
      "execution_count": 118,
      "outputs": [
        {
          "output_type": "execute_result",
          "data": {
            "text/plain": [
              "['Airline', 'Source', 'Destination', 'Route', 'Total_Stops', 'Additional_Info']"
            ]
          },
          "metadata": {
            "tags": []
          },
          "execution_count": 118
        }
      ]
    },
    {
      "cell_type": "code",
      "metadata": {
        "id": "_AanfHrMvqBj",
        "colab": {
          "base_uri": "https://localhost:8080/"
        },
        "outputId": "5ee02c34-55b3-454e-9229-dadb992ac0f6"
      },
      "source": [
        "#continous/numeric columns\n",
        "cont_col=[col for col in df.columns if df[col].dtype!='O']\n",
        "cont_col"
      ],
      "execution_count": 119,
      "outputs": [
        {
          "output_type": "execute_result",
          "data": {
            "text/plain": [
              "['Price',\n",
              " 'journey_month',\n",
              " 'journey_day',\n",
              " 'dep_hour',\n",
              " 'dep_min',\n",
              " 'arrive_hour',\n",
              " 'arrive_min',\n",
              " 'duration_hr',\n",
              " 'duration_min']"
            ]
          },
          "metadata": {
            "tags": []
          },
          "execution_count": 119
        }
      ]
    },
    {
      "cell_type": "code",
      "metadata": {
        "id": "lRXDnI-UvqJL",
        "colab": {
          "base_uri": "https://localhost:8080/",
          "height": 591
        },
        "outputId": "b1dc70e9-6dc3-457e-c5e2-e160a2ec735d"
      },
      "source": [
        "import seaborn as sns\n",
        "import matplotlib.pyplot as plt\n",
        "\n",
        "plt.figure(figsize=(25,10))\n",
        "sns.violinplot(data=df.sort_values(by='Price',ascending=False),x='Airline',y='Price')\n",
        "plt.title('Price varaition according to airline');\n"
      ],
      "execution_count": 121,
      "outputs": [
        {
          "output_type": "display_data",
          "data": {
            "image/png": "[encoded data removed]",
            "text/plain": [
              "<Figure size 1800x720 with 1 Axes>"
            ]
          },
          "metadata": {
            "tags": [],
            "needs_background": "light"
          }
        }
      ]
    },
    {
      "cell_type": "markdown",
      "metadata": {
        "id": "k5oVJoGSXDVx"
      },
      "source": [
        "Jet airyaws business  has large fluctuation in price than compared to orther airline"
      ]
    },
    {
      "cell_type": "code",
      "metadata": {
        "id": "--Ljxa2WvqL0",
        "colab": {
          "base_uri": "https://localhost:8080/",
          "height": 594
        },
        "outputId": "d10c9dfa-3ff5-462f-b990-ba152044b8e6"
      },
      "source": [
        "\n",
        "plt.figure(figsize=(25,10))\n",
        "sns.boxplot(data=df.sort_values(by='Price',ascending=False),x='Airline',y='Price')\n",
        "plt.title(' box plot for price fluctuation according to airline');"
      ],
      "execution_count": 122,
      "outputs": [
        {
          "output_type": "display_data",
          "data": {
            "image/png": "[encoded data removed]",
            "text/plain": [
              "<Figure size 1800x720 with 1 Axes>"
            ]
          },
          "metadata": {
            "tags": [],
            "needs_background": "light"
          }
        }
      ]
    },
    {
      "cell_type": "markdown",
      "metadata": {
        "id": "dNhpX80kzA58"
      },
      "source": [
        "jet airline business price is high compared to  orther airline."
      ]
    },
    {
      "cell_type": "code",
      "metadata": {
        "id": "G_QANZjlvqOM",
        "colab": {
          "base_uri": "https://localhost:8080/",
          "height": 595
        },
        "outputId": "fe69ea1a-0da3-4255-811b-eabcc4044ea2"
      },
      "source": [
        "\n",
        "plt.figure(figsize=(25,10))\n",
        "sns.boxplot(data=df.sort_values(by='Price',ascending=False),x='Total_Stops',y='Price')\n",
        "plt.title(' box plot for price fluctuation according to airline stops');"
      ],
      "execution_count": 123,
      "outputs": [
        {
          "output_type": "display_data",
          "data": {
            "image/png": "[encoded data removed]",
            "text/plain": [
              "<Figure size 1800x720 with 1 Axes>"
            ]
          },
          "metadata": {
            "tags": [],
            "needs_background": "light"
          }
        }
      ]
    },
    {
      "cell_type": "markdown",
      "metadata": {
        "id": "W-ozOXLS0EVS"
      },
      "source": [
        "A flight which has single stop has hihg price range .and flight which has 4 stops has less price.In orther words, fligh having 1 stops have high fluctuation in the price where as 4 stops price has least fluctuation."
      ]
    },
    {
      "cell_type": "code",
      "metadata": {
        "id": "QIlitk3bvqQz",
        "colab": {
          "base_uri": "https://localhost:8080/",
          "height": 641
        },
        "outputId": "20a4357a-8cbb-42d7-cd6f-405d27438890"
      },
      "source": [
        "plt.figure(figsize=(25,10))\n",
        "sns.boxplot(data=df.sort_values(by='Price',ascending=False),x='Source',y='Price')\n",
        "plt.title(' box plot for price fluctuation according to source');"
      ],
      "execution_count": 124,
      "outputs": [
        {
          "output_type": "display_data",
          "data": {
            "image/png": "[encoded data removed]",
            "text/plain": [
              "<Figure size 1800x720 with 1 Axes>"
            ]
          },
          "metadata": {
            "tags": [],
            "needs_background": "light"
          }
        }
      ]
    },
    {
      "cell_type": "markdown",
      "metadata": {
        "id": "IhDIPw8DYeTo"
      },
      "source": [
        "So, Source having Banglore has huge variationin price and Chinnai has the least variation in price"
      ]
    },
    {
      "cell_type": "code",
      "metadata": {
        "id": "hPAMNIOpvqYP",
        "colab": {
          "base_uri": "https://localhost:8080/"
        },
        "outputId": "867af9a5-296b-42b2-9470-91f2dcfdbb76"
      },
      "source": [
        "df.Destination.value_counts()"
      ],
      "execution_count": null,
      "outputs": [
        {
          "output_type": "execute_result",
          "data": {
            "text/plain": [
              "Cochin       4536\n",
              "Banglore     2871\n",
              "Delhi        1265\n",
              "New Delhi     932\n",
              "Hyderabad     697\n",
              "Kolkata       381\n",
              "Name: Destination, dtype: int64"
            ]
          },
          "metadata": {
            "tags": []
          },
          "execution_count": 58
        }
      ]
    },
    {
      "cell_type": "code",
      "metadata": {
        "id": "zE2DaAQNvqa7"
      },
      "source": [
        "df.Destination=df.Destination.str.replace('New Delhi','Delhi')"
      ],
      "execution_count": 126,
      "outputs": []
    },
    {
      "cell_type": "code",
      "metadata": {
        "id": "5O2kG_8Avqdd",
        "colab": {
          "base_uri": "https://localhost:8080/"
        },
        "outputId": "fd02763f-16b5-427c-8d94-cbe609edda45"
      },
      "source": [
        "df.Destination.value_counts()"
      ],
      "execution_count": 127,
      "outputs": [
        {
          "output_type": "execute_result",
          "data": {
            "text/plain": [
              "Cochin       4536\n",
              "Banglore     2871\n",
              "Delhi        2197\n",
              "Hyderabad     697\n",
              "Kolkata       381\n",
              "Name: Destination, dtype: int64"
            ]
          },
          "metadata": {
            "tags": []
          },
          "execution_count": 127
        }
      ]
    },
    {
      "cell_type": "code",
      "metadata": {
        "colab": {
          "base_uri": "https://localhost:8080/",
          "height": 621
        },
        "id": "4j1ejKQS3mvu",
        "outputId": "ccb889d3-2594-4eab-cca4-261d12ec5d6a"
      },
      "source": [
        "plt.figure(figsize=(15,10))\n",
        "sns.boxplot(data=df.sort_values(by='Price',ascending=False),x='Destination',y='Price')\n",
        "plt.title(' box plot for price fluctuation according to Destination');"
      ],
      "execution_count": 128,
      "outputs": [
        {
          "output_type": "display_data",
          "data": {
            "image/png": "[encoded data removed]",
            "text/plain": [
              "<Figure size 1080x720 with 1 Axes>"
            ]
          },
          "metadata": {
            "tags": [],
            "needs_background": "light"
          }
        }
      ]
    },
    {
      "cell_type": "markdown",
      "metadata": {
        "id": "oLMB_IEGY3Dp"
      },
      "source": [
        "So, destination having Delhi has high variation in the price and kolkata has least variation in the price"
      ]
    },
    {
      "cell_type": "code",
      "metadata": {
        "colab": {
          "base_uri": "https://localhost:8080/"
        },
        "id": "NzQtvM8xWXdg",
        "outputId": "de04a949-62c6-4e5b-ddbc-49704f4a6e94"
      },
      "source": [
        "cat_col"
      ],
      "execution_count": 29,
      "outputs": [
        {
          "output_type": "execute_result",
          "data": {
            "text/plain": [
              "['Airline', 'Source', 'Destination', 'Route', 'Total_Stops', 'Additional_Info']"
            ]
          },
          "metadata": {
            "tags": []
          },
          "execution_count": 29
        }
      ]
    },
    {
      "cell_type": "code",
      "metadata": {
        "id": "d424ipUpvqiq",
        "colab": {
          "base_uri": "https://localhost:8080/"
        },
        "outputId": "8e15d20c-26dc-400c-f3a7-3f3f656e8269"
      },
      "source": [
        "my_col=cat_col[0:3]\n",
        "my_col"
      ],
      "execution_count": 30,
      "outputs": [
        {
          "output_type": "execute_result",
          "data": {
            "text/plain": [
              "['Airline', 'Source', 'Destination']"
            ]
          },
          "metadata": {
            "tags": []
          },
          "execution_count": 30
        }
      ]
    },
    {
      "cell_type": "code",
      "metadata": {
        "id": "-M2lfiplvqlD"
      },
      "source": [
        "from sklearn.preprocessing import OneHotEncoder\n",
        "ohe=OneHotEncoder(drop='first',sparse=False)  #droping first columns to reduce multicollinearity"
      ],
      "execution_count": 31,
      "outputs": []
    },
    {
      "cell_type": "code",
      "metadata": {
        "id": "JQ13dKm6vqny",
        "colab": {
          "base_uri": "https://localhost:8080/"
        },
        "outputId": "feb50b7a-f1a6-4c61-9d75-b62e55f33765"
      },
      "source": [
        "df.shape"
      ],
      "execution_count": 32,
      "outputs": [
        {
          "output_type": "execute_result",
          "data": {
            "text/plain": [
              "(10682, 15)"
            ]
          },
          "metadata": {
            "tags": []
          },
          "execution_count": 32
        }
      ]
    },
    {
      "cell_type": "code",
      "metadata": {
        "colab": {
          "base_uri": "https://localhost:8080/",
          "height": 302
        },
        "id": "5-_7C7iHVfk9",
        "outputId": "0e7bc1ad-228f-4eb7-ab4e-b2968caed285"
      },
      "source": [
        "df.head()"
      ],
      "execution_count": 33,
      "outputs": [
        {
          "output_type": "execute_result",
          "data": {
            "text/html": [
              "<div>\n",
              "<style scoped>\n",
              "    .dataframe tbody tr th:only-of-type {\n",
              "        vertical-align: middle;\n",
              "    }\n",
              "\n",
              "    .dataframe tbody tr th {\n",
              "        vertical-align: top;\n",
              "    }\n",
              "\n",
              "    .dataframe thead th {\n",
              "        text-align: right;\n",
              "    }\n",
              "</style>\n",
              "<table border=\"1\" class=\"dataframe\">\n",
              "  <thead>\n",
              "    <tr style=\"text-align: right;\">\n",
              "      <th></th>\n",
              "      <th>Airline</th>\n",
              "      <th>Source</th>\n",
              "      <th>Destination</th>\n",
              "      <th>Route</th>\n",
              "      <th>Total_Stops</th>\n",
              "      <th>Additional_Info</th>\n",
              "      <th>Price</th>\n",
              "      <th>journey_month</th>\n",
              "      <th>journey_day</th>\n",
              "      <th>dep_hour</th>\n",
              "      <th>dep_min</th>\n",
              "      <th>arrive_hour</th>\n",
              "      <th>arrive_min</th>\n",
              "      <th>duration_hr</th>\n",
              "      <th>duration_min</th>\n",
              "    </tr>\n",
              "  </thead>\n",
              "  <tbody>\n",
              "    <tr>\n",
              "      <th>0</th>\n",
              "      <td>IndiGo</td>\n",
              "      <td>Banglore</td>\n",
              "      <td>Delhi</td>\n",
              "      <td>BLR → DEL</td>\n",
              "      <td>non-stop</td>\n",
              "      <td>No info</td>\n",
              "      <td>3897</td>\n",
              "      <td>3</td>\n",
              "      <td>24</td>\n",
              "      <td>22</td>\n",
              "      <td>20</td>\n",
              "      <td>1</td>\n",
              "      <td>10</td>\n",
              "      <td>2</td>\n",
              "      <td>50</td>\n",
              "    </tr>\n",
              "    <tr>\n",
              "      <th>1</th>\n",
              "      <td>Air India</td>\n",
              "      <td>Kolkata</td>\n",
              "      <td>Banglore</td>\n",
              "      <td>CCU → IXR → BBI → BLR</td>\n",
              "      <td>2 stops</td>\n",
              "      <td>No info</td>\n",
              "      <td>7662</td>\n",
              "      <td>1</td>\n",
              "      <td>5</td>\n",
              "      <td>5</td>\n",
              "      <td>50</td>\n",
              "      <td>13</td>\n",
              "      <td>15</td>\n",
              "      <td>7</td>\n",
              "      <td>25</td>\n",
              "    </tr>\n",
              "    <tr>\n",
              "      <th>2</th>\n",
              "      <td>Jet Airways</td>\n",
              "      <td>Delhi</td>\n",
              "      <td>Cochin</td>\n",
              "      <td>DEL → LKO → BOM → COK</td>\n",
              "      <td>2 stops</td>\n",
              "      <td>No info</td>\n",
              "      <td>13882</td>\n",
              "      <td>9</td>\n",
              "      <td>6</td>\n",
              "      <td>9</td>\n",
              "      <td>25</td>\n",
              "      <td>4</td>\n",
              "      <td>25</td>\n",
              "      <td>19</td>\n",
              "      <td>0</td>\n",
              "    </tr>\n",
              "    <tr>\n",
              "      <th>3</th>\n",
              "      <td>IndiGo</td>\n",
              "      <td>Kolkata</td>\n",
              "      <td>Banglore</td>\n",
              "      <td>CCU → NAG → BLR</td>\n",
              "      <td>1 stop</td>\n",
              "      <td>No info</td>\n",
              "      <td>6218</td>\n",
              "      <td>12</td>\n",
              "      <td>5</td>\n",
              "      <td>18</td>\n",
              "      <td>5</td>\n",
              "      <td>23</td>\n",
              "      <td>30</td>\n",
              "      <td>5</td>\n",
              "      <td>25</td>\n",
              "    </tr>\n",
              "    <tr>\n",
              "      <th>4</th>\n",
              "      <td>IndiGo</td>\n",
              "      <td>Banglore</td>\n",
              "      <td>Delhi</td>\n",
              "      <td>BLR → NAG → DEL</td>\n",
              "      <td>1 stop</td>\n",
              "      <td>No info</td>\n",
              "      <td>13302</td>\n",
              "      <td>1</td>\n",
              "      <td>3</td>\n",
              "      <td>16</td>\n",
              "      <td>50</td>\n",
              "      <td>21</td>\n",
              "      <td>35</td>\n",
              "      <td>4</td>\n",
              "      <td>45</td>\n",
              "    </tr>\n",
              "  </tbody>\n",
              "</table>\n",
              "</div>"
            ],
            "text/plain": [
              "       Airline    Source Destination                  Route Total_Stops  \\\n",
              "0       IndiGo  Banglore       Delhi              BLR → DEL    non-stop   \n",
              "1    Air India   Kolkata    Banglore  CCU → IXR → BBI → BLR     2 stops   \n",
              "2  Jet Airways     Delhi      Cochin  DEL → LKO → BOM → COK     2 stops   \n",
              "3       IndiGo   Kolkata    Banglore        CCU → NAG → BLR      1 stop   \n",
              "4       IndiGo  Banglore       Delhi        BLR → NAG → DEL      1 stop   \n",
              "\n",
              "  Additional_Info  Price  journey_month  journey_day  dep_hour  dep_min  \\\n",
              "0         No info   3897              3           24        22       20   \n",
              "1         No info   7662              1            5         5       50   \n",
              "2         No info  13882              9            6         9       25   \n",
              "3         No info   6218             12            5        18        5   \n",
              "4         No info  13302              1            3        16       50   \n",
              "\n",
              "   arrive_hour  arrive_min  duration_hr  duration_min  \n",
              "0            1          10            2            50  \n",
              "1           13          15            7            25  \n",
              "2            4          25           19             0  \n",
              "3           23          30            5            25  \n",
              "4           21          35            4            45  "
            ]
          },
          "metadata": {
            "tags": []
          },
          "execution_count": 33
        }
      ]
    },
    {
      "cell_type": "code",
      "metadata": {
        "id": "3kQmw_qTaPDT"
      },
      "source": [
        "df1=df.copy() "
      ],
      "execution_count": 34,
      "outputs": []
    },
    {
      "cell_type": "code",
      "metadata": {
        "colab": {
          "base_uri": "https://localhost:8080/"
        },
        "id": "N4GFOHsfVp-U",
        "outputId": "d639af9c-74fa-4ade-8520-e004cb1cf12b"
      },
      "source": [
        "df.Source.unique()"
      ],
      "execution_count": 35,
      "outputs": [
        {
          "output_type": "execute_result",
          "data": {
            "text/plain": [
              "array(['Banglore', 'Kolkata', 'Delhi', 'Chennai', 'Mumbai'], dtype=object)"
            ]
          },
          "metadata": {
            "tags": []
          },
          "execution_count": 35
        }
      ]
    },
    {
      "cell_type": "code",
      "metadata": {
        "colab": {
          "base_uri": "https://localhost:8080/"
        },
        "id": "zjXvDlwXVt05",
        "outputId": "2be211c2-df72-437b-e4f0-b6c5bcd3bba9"
      },
      "source": [
        "df.Destination.unique()"
      ],
      "execution_count": 36,
      "outputs": [
        {
          "output_type": "execute_result",
          "data": {
            "text/plain": [
              "array(['Delhi', 'Banglore', 'Cochin', 'Kolkata', 'Hyderabad'],\n",
              "      dtype=object)"
            ]
          },
          "metadata": {
            "tags": []
          },
          "execution_count": 36
        }
      ]
    },
    {
      "cell_type": "code",
      "metadata": {
        "id": "beDO1OkwvqqR"
      },
      "source": [
        "df1_ohe=pd.DataFrame(ohe.fit_transform(df1[my_col]))  # applying one hot encoder to categoricals columns\n",
        "  "
      ],
      "execution_count": 37,
      "outputs": []
    },
    {
      "cell_type": "code",
      "metadata": {
        "id": "ybcjvwdlvqsv",
        "colab": {
          "base_uri": "https://localhost:8080/",
          "height": 414
        },
        "outputId": "10139556-c1ac-49ab-c835-3aa61f6b6c6a"
      },
      "source": [
        "df1_ohe  # one hot encoder removes columns names"
      ],
      "execution_count": 38,
      "outputs": [
        {
          "output_type": "execute_result",
          "data": {
            "text/html": [
              "<div>\n",
              "<style scoped>\n",
              "    .dataframe tbody tr th:only-of-type {\n",
              "        vertical-align: middle;\n",
              "    }\n",
              "\n",
              "    .dataframe tbody tr th {\n",
              "        vertical-align: top;\n",
              "    }\n",
              "\n",
              "    .dataframe thead th {\n",
              "        text-align: right;\n",
              "    }\n",
              "</style>\n",
              "<table border=\"1\" class=\"dataframe\">\n",
              "  <thead>\n",
              "    <tr style=\"text-align: right;\">\n",
              "      <th></th>\n",
              "      <th>0</th>\n",
              "      <th>1</th>\n",
              "      <th>2</th>\n",
              "      <th>3</th>\n",
              "      <th>4</th>\n",
              "      <th>5</th>\n",
              "      <th>6</th>\n",
              "      <th>7</th>\n",
              "      <th>8</th>\n",
              "      <th>9</th>\n",
              "      <th>10</th>\n",
              "      <th>11</th>\n",
              "      <th>12</th>\n",
              "      <th>13</th>\n",
              "      <th>14</th>\n",
              "      <th>15</th>\n",
              "      <th>16</th>\n",
              "      <th>17</th>\n",
              "      <th>18</th>\n",
              "    </tr>\n",
              "  </thead>\n",
              "  <tbody>\n",
              "    <tr>\n",
              "      <th>0</th>\n",
              "      <td>0.0</td>\n",
              "      <td>0.0</td>\n",
              "      <td>1.0</td>\n",
              "      <td>0.0</td>\n",
              "      <td>0.0</td>\n",
              "      <td>0.0</td>\n",
              "      <td>0.0</td>\n",
              "      <td>0.0</td>\n",
              "      <td>0.0</td>\n",
              "      <td>0.0</td>\n",
              "      <td>0.0</td>\n",
              "      <td>0.0</td>\n",
              "      <td>0.0</td>\n",
              "      <td>0.0</td>\n",
              "      <td>0.0</td>\n",
              "      <td>0.0</td>\n",
              "      <td>1.0</td>\n",
              "      <td>0.0</td>\n",
              "      <td>0.0</td>\n",
              "    </tr>\n",
              "    <tr>\n",
              "      <th>1</th>\n",
              "      <td>1.0</td>\n",
              "      <td>0.0</td>\n",
              "      <td>0.0</td>\n",
              "      <td>0.0</td>\n",
              "      <td>0.0</td>\n",
              "      <td>0.0</td>\n",
              "      <td>0.0</td>\n",
              "      <td>0.0</td>\n",
              "      <td>0.0</td>\n",
              "      <td>0.0</td>\n",
              "      <td>0.0</td>\n",
              "      <td>0.0</td>\n",
              "      <td>0.0</td>\n",
              "      <td>1.0</td>\n",
              "      <td>0.0</td>\n",
              "      <td>0.0</td>\n",
              "      <td>0.0</td>\n",
              "      <td>0.0</td>\n",
              "      <td>0.0</td>\n",
              "    </tr>\n",
              "    <tr>\n",
              "      <th>2</th>\n",
              "      <td>0.0</td>\n",
              "      <td>0.0</td>\n",
              "      <td>0.0</td>\n",
              "      <td>1.0</td>\n",
              "      <td>0.0</td>\n",
              "      <td>0.0</td>\n",
              "      <td>0.0</td>\n",
              "      <td>0.0</td>\n",
              "      <td>0.0</td>\n",
              "      <td>0.0</td>\n",
              "      <td>0.0</td>\n",
              "      <td>0.0</td>\n",
              "      <td>1.0</td>\n",
              "      <td>0.0</td>\n",
              "      <td>0.0</td>\n",
              "      <td>1.0</td>\n",
              "      <td>0.0</td>\n",
              "      <td>0.0</td>\n",
              "      <td>0.0</td>\n",
              "    </tr>\n",
              "    <tr>\n",
              "      <th>3</th>\n",
              "      <td>0.0</td>\n",
              "      <td>0.0</td>\n",
              "      <td>1.0</td>\n",
              "      <td>0.0</td>\n",
              "      <td>0.0</td>\n",
              "      <td>0.0</td>\n",
              "      <td>0.0</td>\n",
              "      <td>0.0</td>\n",
              "      <td>0.0</td>\n",
              "      <td>0.0</td>\n",
              "      <td>0.0</td>\n",
              "      <td>0.0</td>\n",
              "      <td>0.0</td>\n",
              "      <td>1.0</td>\n",
              "      <td>0.0</td>\n",
              "      <td>0.0</td>\n",
              "      <td>0.0</td>\n",
              "      <td>0.0</td>\n",
              "      <td>0.0</td>\n",
              "    </tr>\n",
              "    <tr>\n",
              "      <th>4</th>\n",
              "      <td>0.0</td>\n",
              "      <td>0.0</td>\n",
              "      <td>1.0</td>\n",
              "      <td>0.0</td>\n",
              "      <td>0.0</td>\n",
              "      <td>0.0</td>\n",
              "      <td>0.0</td>\n",
              "      <td>0.0</td>\n",
              "      <td>0.0</td>\n",
              "      <td>0.0</td>\n",
              "      <td>0.0</td>\n",
              "      <td>0.0</td>\n",
              "      <td>0.0</td>\n",
              "      <td>0.0</td>\n",
              "      <td>0.0</td>\n",
              "      <td>0.0</td>\n",
              "      <td>1.0</td>\n",
              "      <td>0.0</td>\n",
              "      <td>0.0</td>\n",
              "    </tr>\n",
              "    <tr>\n",
              "      <th>...</th>\n",
              "      <td>...</td>\n",
              "      <td>...</td>\n",
              "      <td>...</td>\n",
              "      <td>...</td>\n",
              "      <td>...</td>\n",
              "      <td>...</td>\n",
              "      <td>...</td>\n",
              "      <td>...</td>\n",
              "      <td>...</td>\n",
              "      <td>...</td>\n",
              "      <td>...</td>\n",
              "      <td>...</td>\n",
              "      <td>...</td>\n",
              "      <td>...</td>\n",
              "      <td>...</td>\n",
              "      <td>...</td>\n",
              "      <td>...</td>\n",
              "      <td>...</td>\n",
              "      <td>...</td>\n",
              "    </tr>\n",
              "    <tr>\n",
              "      <th>10677</th>\n",
              "      <td>0.0</td>\n",
              "      <td>0.0</td>\n",
              "      <td>0.0</td>\n",
              "      <td>0.0</td>\n",
              "      <td>0.0</td>\n",
              "      <td>0.0</td>\n",
              "      <td>0.0</td>\n",
              "      <td>0.0</td>\n",
              "      <td>0.0</td>\n",
              "      <td>0.0</td>\n",
              "      <td>0.0</td>\n",
              "      <td>0.0</td>\n",
              "      <td>0.0</td>\n",
              "      <td>1.0</td>\n",
              "      <td>0.0</td>\n",
              "      <td>0.0</td>\n",
              "      <td>0.0</td>\n",
              "      <td>0.0</td>\n",
              "      <td>0.0</td>\n",
              "    </tr>\n",
              "    <tr>\n",
              "      <th>10678</th>\n",
              "      <td>1.0</td>\n",
              "      <td>0.0</td>\n",
              "      <td>0.0</td>\n",
              "      <td>0.0</td>\n",
              "      <td>0.0</td>\n",
              "      <td>0.0</td>\n",
              "      <td>0.0</td>\n",
              "      <td>0.0</td>\n",
              "      <td>0.0</td>\n",
              "      <td>0.0</td>\n",
              "      <td>0.0</td>\n",
              "      <td>0.0</td>\n",
              "      <td>0.0</td>\n",
              "      <td>1.0</td>\n",
              "      <td>0.0</td>\n",
              "      <td>0.0</td>\n",
              "      <td>0.0</td>\n",
              "      <td>0.0</td>\n",
              "      <td>0.0</td>\n",
              "    </tr>\n",
              "    <tr>\n",
              "      <th>10679</th>\n",
              "      <td>0.0</td>\n",
              "      <td>0.0</td>\n",
              "      <td>0.0</td>\n",
              "      <td>1.0</td>\n",
              "      <td>0.0</td>\n",
              "      <td>0.0</td>\n",
              "      <td>0.0</td>\n",
              "      <td>0.0</td>\n",
              "      <td>0.0</td>\n",
              "      <td>0.0</td>\n",
              "      <td>0.0</td>\n",
              "      <td>0.0</td>\n",
              "      <td>0.0</td>\n",
              "      <td>0.0</td>\n",
              "      <td>0.0</td>\n",
              "      <td>0.0</td>\n",
              "      <td>1.0</td>\n",
              "      <td>0.0</td>\n",
              "      <td>0.0</td>\n",
              "    </tr>\n",
              "    <tr>\n",
              "      <th>10680</th>\n",
              "      <td>0.0</td>\n",
              "      <td>0.0</td>\n",
              "      <td>0.0</td>\n",
              "      <td>0.0</td>\n",
              "      <td>0.0</td>\n",
              "      <td>0.0</td>\n",
              "      <td>0.0</td>\n",
              "      <td>0.0</td>\n",
              "      <td>0.0</td>\n",
              "      <td>1.0</td>\n",
              "      <td>0.0</td>\n",
              "      <td>0.0</td>\n",
              "      <td>0.0</td>\n",
              "      <td>0.0</td>\n",
              "      <td>0.0</td>\n",
              "      <td>0.0</td>\n",
              "      <td>1.0</td>\n",
              "      <td>0.0</td>\n",
              "      <td>0.0</td>\n",
              "    </tr>\n",
              "    <tr>\n",
              "      <th>10681</th>\n",
              "      <td>1.0</td>\n",
              "      <td>0.0</td>\n",
              "      <td>0.0</td>\n",
              "      <td>0.0</td>\n",
              "      <td>0.0</td>\n",
              "      <td>0.0</td>\n",
              "      <td>0.0</td>\n",
              "      <td>0.0</td>\n",
              "      <td>0.0</td>\n",
              "      <td>0.0</td>\n",
              "      <td>0.0</td>\n",
              "      <td>0.0</td>\n",
              "      <td>1.0</td>\n",
              "      <td>0.0</td>\n",
              "      <td>0.0</td>\n",
              "      <td>1.0</td>\n",
              "      <td>0.0</td>\n",
              "      <td>0.0</td>\n",
              "      <td>0.0</td>\n",
              "    </tr>\n",
              "  </tbody>\n",
              "</table>\n",
              "<p>10682 rows × 19 columns</p>\n",
              "</div>"
            ],
            "text/plain": [
              "        0    1    2    3    4    5    6    7    8    9    10   11   12   13  \\\n",
              "0      0.0  0.0  1.0  0.0  0.0  0.0  0.0  0.0  0.0  0.0  0.0  0.0  0.0  0.0   \n",
              "1      1.0  0.0  0.0  0.0  0.0  0.0  0.0  0.0  0.0  0.0  0.0  0.0  0.0  1.0   \n",
              "2      0.0  0.0  0.0  1.0  0.0  0.0  0.0  0.0  0.0  0.0  0.0  0.0  1.0  0.0   \n",
              "3      0.0  0.0  1.0  0.0  0.0  0.0  0.0  0.0  0.0  0.0  0.0  0.0  0.0  1.0   \n",
              "4      0.0  0.0  1.0  0.0  0.0  0.0  0.0  0.0  0.0  0.0  0.0  0.0  0.0  0.0   \n",
              "...    ...  ...  ...  ...  ...  ...  ...  ...  ...  ...  ...  ...  ...  ...   \n",
              "10677  0.0  0.0  0.0  0.0  0.0  0.0  0.0  0.0  0.0  0.0  0.0  0.0  0.0  1.0   \n",
              "10678  1.0  0.0  0.0  0.0  0.0  0.0  0.0  0.0  0.0  0.0  0.0  0.0  0.0  1.0   \n",
              "10679  0.0  0.0  0.0  1.0  0.0  0.0  0.0  0.0  0.0  0.0  0.0  0.0  0.0  0.0   \n",
              "10680  0.0  0.0  0.0  0.0  0.0  0.0  0.0  0.0  0.0  1.0  0.0  0.0  0.0  0.0   \n",
              "10681  1.0  0.0  0.0  0.0  0.0  0.0  0.0  0.0  0.0  0.0  0.0  0.0  1.0  0.0   \n",
              "\n",
              "        14   15   16   17   18  \n",
              "0      0.0  0.0  1.0  0.0  0.0  \n",
              "1      0.0  0.0  0.0  0.0  0.0  \n",
              "2      0.0  1.0  0.0  0.0  0.0  \n",
              "3      0.0  0.0  0.0  0.0  0.0  \n",
              "4      0.0  0.0  1.0  0.0  0.0  \n",
              "...    ...  ...  ...  ...  ...  \n",
              "10677  0.0  0.0  0.0  0.0  0.0  \n",
              "10678  0.0  0.0  0.0  0.0  0.0  \n",
              "10679  0.0  0.0  1.0  0.0  0.0  \n",
              "10680  0.0  0.0  1.0  0.0  0.0  \n",
              "10681  0.0  1.0  0.0  0.0  0.0  \n",
              "\n",
              "[10682 rows x 19 columns]"
            ]
          },
          "metadata": {
            "tags": []
          },
          "execution_count": 38
        }
      ]
    },
    {
      "cell_type": "code",
      "metadata": {
        "id": "G4r1qshojHYh"
      },
      "source": [
        "# putting back columns as onehot encoding removes colums\n",
        "df1_ohe.columns=ohe.get_feature_names(my_col)  "
      ],
      "execution_count": 39,
      "outputs": []
    },
    {
      "cell_type": "code",
      "metadata": {
        "id": "61vAxnMcWfyL"
      },
      "source": [
        "df1.drop(my_col,axis=1,inplace=True) # dropping the columns that has beeb onehot encoded"
      ],
      "execution_count": 40,
      "outputs": []
    },
    {
      "cell_type": "code",
      "metadata": {
        "id": "u_ko3xf7Wf8m"
      },
      "source": [
        "df2=pd.concat([df1,df1_ohe],axis=1) # concating initial data frame with onehot encoding data frame"
      ],
      "execution_count": 41,
      "outputs": []
    },
    {
      "cell_type": "code",
      "metadata": {
        "colab": {
          "base_uri": "https://localhost:8080/"
        },
        "id": "1UpDiqrxWf_n",
        "outputId": "32b7fce9-39e9-4830-d54f-6df381a04b80"
      },
      "source": [
        "df2.shape # shape after encoding is performed2"
      ],
      "execution_count": 42,
      "outputs": [
        {
          "output_type": "execute_result",
          "data": {
            "text/plain": [
              "(10683, 31)"
            ]
          },
          "metadata": {
            "tags": []
          },
          "execution_count": 42
        }
      ]
    },
    {
      "cell_type": "code",
      "metadata": {
        "id": "-2Mp2FezvqvW"
      },
      "source": [
        "df2['Route_1']=df2['Route'].str.split('→').str[0]  # cleaning Route columns\n",
        "df2['Route_2']=df2['Route'].str.split('→').str[1]\n",
        "df2['Route_3']=df2['Route'].str.split('→').str[2]\n",
        "df2['Route_4']=df2['Route'].str.split('→').str[3]\n",
        "df2['Route_5']=df2['Route'].str.split('→').str[4]"
      ],
      "execution_count": 43,
      "outputs": []
    },
    {
      "cell_type": "code",
      "metadata": {
        "id": "QQjKPSiQvqxe",
        "colab": {
          "base_uri": "https://localhost:8080/",
          "height": 651
        },
        "outputId": "b74c2524-70df-4515-cb03-051d56c4ec42"
      },
      "source": [
        "df2.head()"
      ],
      "execution_count": 44,
      "outputs": [
        {
          "output_type": "execute_result",
          "data": {
            "text/html": [
              "<div>\n",
              "<style scoped>\n",
              "    .dataframe tbody tr th:only-of-type {\n",
              "        vertical-align: middle;\n",
              "    }\n",
              "\n",
              "    .dataframe tbody tr th {\n",
              "        vertical-align: top;\n",
              "    }\n",
              "\n",
              "    .dataframe thead th {\n",
              "        text-align: right;\n",
              "    }\n",
              "</style>\n",
              "<table border=\"1\" class=\"dataframe\">\n",
              "  <thead>\n",
              "    <tr style=\"text-align: right;\">\n",
              "      <th></th>\n",
              "      <th>Route</th>\n",
              "      <th>Total_Stops</th>\n",
              "      <th>Additional_Info</th>\n",
              "      <th>Price</th>\n",
              "      <th>journey_month</th>\n",
              "      <th>journey_day</th>\n",
              "      <th>dep_hour</th>\n",
              "      <th>dep_min</th>\n",
              "      <th>arrive_hour</th>\n",
              "      <th>arrive_min</th>\n",
              "      <th>duration_hr</th>\n",
              "      <th>duration_min</th>\n",
              "      <th>Airline_Air India</th>\n",
              "      <th>Airline_GoAir</th>\n",
              "      <th>Airline_IndiGo</th>\n",
              "      <th>Airline_Jet Airways</th>\n",
              "      <th>Airline_Jet Airways Business</th>\n",
              "      <th>...</th>\n",
              "      <th>Airline_SpiceJet</th>\n",
              "      <th>Airline_Trujet</th>\n",
              "      <th>Airline_Vistara</th>\n",
              "      <th>Airline_Vistara Premium economy</th>\n",
              "      <th>Source_Chennai</th>\n",
              "      <th>Source_Delhi</th>\n",
              "      <th>Source_Kolkata</th>\n",
              "      <th>Source_Mumbai</th>\n",
              "      <th>Destination_Cochin</th>\n",
              "      <th>Destination_Delhi</th>\n",
              "      <th>Destination_Hyderabad</th>\n",
              "      <th>Destination_Kolkata</th>\n",
              "      <th>Route_1</th>\n",
              "      <th>Route_2</th>\n",
              "      <th>Route_3</th>\n",
              "      <th>Route_4</th>\n",
              "      <th>Route_5</th>\n",
              "    </tr>\n",
              "  </thead>\n",
              "  <tbody>\n",
              "    <tr>\n",
              "      <th>0</th>\n",
              "      <td>BLR → DEL</td>\n",
              "      <td>non-stop</td>\n",
              "      <td>No info</td>\n",
              "      <td>3897.0</td>\n",
              "      <td>3.0</td>\n",
              "      <td>24.0</td>\n",
              "      <td>22.0</td>\n",
              "      <td>20.0</td>\n",
              "      <td>1.0</td>\n",
              "      <td>10.0</td>\n",
              "      <td>2.0</td>\n",
              "      <td>50.0</td>\n",
              "      <td>0.0</td>\n",
              "      <td>0.0</td>\n",
              "      <td>1.0</td>\n",
              "      <td>0.0</td>\n",
              "      <td>0.0</td>\n",
              "      <td>...</td>\n",
              "      <td>0.0</td>\n",
              "      <td>0.0</td>\n",
              "      <td>0.0</td>\n",
              "      <td>0.0</td>\n",
              "      <td>0.0</td>\n",
              "      <td>0.0</td>\n",
              "      <td>0.0</td>\n",
              "      <td>0.0</td>\n",
              "      <td>0.0</td>\n",
              "      <td>1.0</td>\n",
              "      <td>0.0</td>\n",
              "      <td>0.0</td>\n",
              "      <td>BLR</td>\n",
              "      <td>DEL</td>\n",
              "      <td>NaN</td>\n",
              "      <td>NaN</td>\n",
              "      <td>NaN</td>\n",
              "    </tr>\n",
              "    <tr>\n",
              "      <th>1</th>\n",
              "      <td>CCU → IXR → BBI → BLR</td>\n",
              "      <td>2 stops</td>\n",
              "      <td>No info</td>\n",
              "      <td>7662.0</td>\n",
              "      <td>1.0</td>\n",
              "      <td>5.0</td>\n",
              "      <td>5.0</td>\n",
              "      <td>50.0</td>\n",
              "      <td>13.0</td>\n",
              "      <td>15.0</td>\n",
              "      <td>7.0</td>\n",
              "      <td>25.0</td>\n",
              "      <td>1.0</td>\n",
              "      <td>0.0</td>\n",
              "      <td>0.0</td>\n",
              "      <td>0.0</td>\n",
              "      <td>0.0</td>\n",
              "      <td>...</td>\n",
              "      <td>0.0</td>\n",
              "      <td>0.0</td>\n",
              "      <td>0.0</td>\n",
              "      <td>0.0</td>\n",
              "      <td>0.0</td>\n",
              "      <td>0.0</td>\n",
              "      <td>1.0</td>\n",
              "      <td>0.0</td>\n",
              "      <td>0.0</td>\n",
              "      <td>0.0</td>\n",
              "      <td>0.0</td>\n",
              "      <td>0.0</td>\n",
              "      <td>CCU</td>\n",
              "      <td>IXR</td>\n",
              "      <td>BBI</td>\n",
              "      <td>BLR</td>\n",
              "      <td>NaN</td>\n",
              "    </tr>\n",
              "    <tr>\n",
              "      <th>2</th>\n",
              "      <td>DEL → LKO → BOM → COK</td>\n",
              "      <td>2 stops</td>\n",
              "      <td>No info</td>\n",
              "      <td>13882.0</td>\n",
              "      <td>9.0</td>\n",
              "      <td>6.0</td>\n",
              "      <td>9.0</td>\n",
              "      <td>25.0</td>\n",
              "      <td>4.0</td>\n",
              "      <td>25.0</td>\n",
              "      <td>19.0</td>\n",
              "      <td>0.0</td>\n",
              "      <td>0.0</td>\n",
              "      <td>0.0</td>\n",
              "      <td>0.0</td>\n",
              "      <td>1.0</td>\n",
              "      <td>0.0</td>\n",
              "      <td>...</td>\n",
              "      <td>0.0</td>\n",
              "      <td>0.0</td>\n",
              "      <td>0.0</td>\n",
              "      <td>0.0</td>\n",
              "      <td>0.0</td>\n",
              "      <td>1.0</td>\n",
              "      <td>0.0</td>\n",
              "      <td>0.0</td>\n",
              "      <td>1.0</td>\n",
              "      <td>0.0</td>\n",
              "      <td>0.0</td>\n",
              "      <td>0.0</td>\n",
              "      <td>DEL</td>\n",
              "      <td>LKO</td>\n",
              "      <td>BOM</td>\n",
              "      <td>COK</td>\n",
              "      <td>NaN</td>\n",
              "    </tr>\n",
              "    <tr>\n",
              "      <th>3</th>\n",
              "      <td>CCU → NAG → BLR</td>\n",
              "      <td>1 stop</td>\n",
              "      <td>No info</td>\n",
              "      <td>6218.0</td>\n",
              "      <td>12.0</td>\n",
              "      <td>5.0</td>\n",
              "      <td>18.0</td>\n",
              "      <td>5.0</td>\n",
              "      <td>23.0</td>\n",
              "      <td>30.0</td>\n",
              "      <td>5.0</td>\n",
              "      <td>25.0</td>\n",
              "      <td>0.0</td>\n",
              "      <td>0.0</td>\n",
              "      <td>1.0</td>\n",
              "      <td>0.0</td>\n",
              "      <td>0.0</td>\n",
              "      <td>...</td>\n",
              "      <td>0.0</td>\n",
              "      <td>0.0</td>\n",
              "      <td>0.0</td>\n",
              "      <td>0.0</td>\n",
              "      <td>0.0</td>\n",
              "      <td>0.0</td>\n",
              "      <td>1.0</td>\n",
              "      <td>0.0</td>\n",
              "      <td>0.0</td>\n",
              "      <td>0.0</td>\n",
              "      <td>0.0</td>\n",
              "      <td>0.0</td>\n",
              "      <td>CCU</td>\n",
              "      <td>NAG</td>\n",
              "      <td>BLR</td>\n",
              "      <td>NaN</td>\n",
              "      <td>NaN</td>\n",
              "    </tr>\n",
              "    <tr>\n",
              "      <th>4</th>\n",
              "      <td>BLR → NAG → DEL</td>\n",
              "      <td>1 stop</td>\n",
              "      <td>No info</td>\n",
              "      <td>13302.0</td>\n",
              "      <td>1.0</td>\n",
              "      <td>3.0</td>\n",
              "      <td>16.0</td>\n",
              "      <td>50.0</td>\n",
              "      <td>21.0</td>\n",
              "      <td>35.0</td>\n",
              "      <td>4.0</td>\n",
              "      <td>45.0</td>\n",
              "      <td>0.0</td>\n",
              "      <td>0.0</td>\n",
              "      <td>1.0</td>\n",
              "      <td>0.0</td>\n",
              "      <td>0.0</td>\n",
              "      <td>...</td>\n",
              "      <td>0.0</td>\n",
              "      <td>0.0</td>\n",
              "      <td>0.0</td>\n",
              "      <td>0.0</td>\n",
              "      <td>0.0</td>\n",
              "      <td>0.0</td>\n",
              "      <td>0.0</td>\n",
              "      <td>0.0</td>\n",
              "      <td>0.0</td>\n",
              "      <td>1.0</td>\n",
              "      <td>0.0</td>\n",
              "      <td>0.0</td>\n",
              "      <td>BLR</td>\n",
              "      <td>NAG</td>\n",
              "      <td>DEL</td>\n",
              "      <td>NaN</td>\n",
              "      <td>NaN</td>\n",
              "    </tr>\n",
              "  </tbody>\n",
              "</table>\n",
              "<p>5 rows × 36 columns</p>\n",
              "</div>"
            ],
            "text/plain": [
              "                   Route Total_Stops Additional_Info    Price  journey_month  \\\n",
              "0              BLR → DEL    non-stop         No info   3897.0            3.0   \n",
              "1  CCU → IXR → BBI → BLR     2 stops         No info   7662.0            1.0   \n",
              "2  DEL → LKO → BOM → COK     2 stops         No info  13882.0            9.0   \n",
              "3        CCU → NAG → BLR      1 stop         No info   6218.0           12.0   \n",
              "4        BLR → NAG → DEL      1 stop         No info  13302.0            1.0   \n",
              "\n",
              "   journey_day  dep_hour  dep_min  arrive_hour  arrive_min  duration_hr  \\\n",
              "0         24.0      22.0     20.0          1.0        10.0          2.0   \n",
              "1          5.0       5.0     50.0         13.0        15.0          7.0   \n",
              "2          6.0       9.0     25.0          4.0        25.0         19.0   \n",
              "3          5.0      18.0      5.0         23.0        30.0          5.0   \n",
              "4          3.0      16.0     50.0         21.0        35.0          4.0   \n",
              "\n",
              "   duration_min  Airline_Air India  Airline_GoAir  Airline_IndiGo  \\\n",
              "0          50.0                0.0            0.0             1.0   \n",
              "1          25.0                1.0            0.0             0.0   \n",
              "2           0.0                0.0            0.0             0.0   \n",
              "3          25.0                0.0            0.0             1.0   \n",
              "4          45.0                0.0            0.0             1.0   \n",
              "\n",
              "   Airline_Jet Airways  Airline_Jet Airways Business  ...  Airline_SpiceJet  \\\n",
              "0                  0.0                           0.0  ...               0.0   \n",
              "1                  0.0                           0.0  ...               0.0   \n",
              "2                  1.0                           0.0  ...               0.0   \n",
              "3                  0.0                           0.0  ...               0.0   \n",
              "4                  0.0                           0.0  ...               0.0   \n",
              "\n",
              "   Airline_Trujet  Airline_Vistara  Airline_Vistara Premium economy  \\\n",
              "0             0.0              0.0                              0.0   \n",
              "1             0.0              0.0                              0.0   \n",
              "2             0.0              0.0                              0.0   \n",
              "3             0.0              0.0                              0.0   \n",
              "4             0.0              0.0                              0.0   \n",
              "\n",
              "   Source_Chennai  Source_Delhi  Source_Kolkata  Source_Mumbai  \\\n",
              "0             0.0           0.0             0.0            0.0   \n",
              "1             0.0           0.0             1.0            0.0   \n",
              "2             0.0           1.0             0.0            0.0   \n",
              "3             0.0           0.0             1.0            0.0   \n",
              "4             0.0           0.0             0.0            0.0   \n",
              "\n",
              "   Destination_Cochin  Destination_Delhi  Destination_Hyderabad  \\\n",
              "0                 0.0                1.0                    0.0   \n",
              "1                 0.0                0.0                    0.0   \n",
              "2                 1.0                0.0                    0.0   \n",
              "3                 0.0                0.0                    0.0   \n",
              "4                 0.0                1.0                    0.0   \n",
              "\n",
              "   Destination_Kolkata  Route_1  Route_2 Route_3 Route_4 Route_5  \n",
              "0                  0.0     BLR       DEL     NaN     NaN     NaN  \n",
              "1                  0.0     CCU      IXR     BBI      BLR     NaN  \n",
              "2                  0.0     DEL      LKO     BOM      COK     NaN  \n",
              "3                  0.0     CCU      NAG      BLR     NaN     NaN  \n",
              "4                  0.0     BLR      NAG      DEL     NaN     NaN  \n",
              "\n",
              "[5 rows x 36 columns]"
            ]
          },
          "metadata": {
            "tags": []
          },
          "execution_count": 44
        }
      ]
    },
    {
      "cell_type": "code",
      "metadata": {
        "colab": {
          "base_uri": "https://localhost:8080/"
        },
        "id": "PHQY3pc1TMxO",
        "outputId": "a6d28b96-05c0-4fb1-86d8-f2617b0d7050"
      },
      "source": [
        "df2['Route_2'].value_counts()"
      ],
      "execution_count": 45,
      "outputs": [
        {
          "output_type": "execute_result",
          "data": {
            "text/plain": [
              " BOM     3867\n",
              " DEL     1552\n",
              " BLR      724\n",
              " DEL      663\n",
              " HYD      621\n",
              " HYD      565\n",
              " CCU      381\n",
              " AMD      263\n",
              " JAI      260\n",
              " MAA      259\n",
              " BLR      236\n",
              " COK      213\n",
              " BBI      114\n",
              " IDR      106\n",
              " GAU       88\n",
              " NAG       83\n",
              " CCU       75\n",
              " GOI       72\n",
              " PNQ       66\n",
              " LKO       61\n",
              " BHO       57\n",
              " IXR       52\n",
              " JDH       41\n",
              " ATQ       40\n",
              " BDQ       38\n",
              " IXB       21\n",
              " UDR       19\n",
              " RPR       19\n",
              " TRV       18\n",
              " COK       16\n",
              " VGA       15\n",
              " IXC       13\n",
              " IXU       12\n",
              " VNS       11\n",
              " PAT       10\n",
              " KNU       10\n",
              " GWL        8\n",
              " HBX        3\n",
              " DED        3\n",
              " STV        2\n",
              " VTZ        1\n",
              " NDC        1\n",
              " IXZ        1\n",
              " JLR        1\n",
              " IXA        1\n",
              "Name: Route_2, dtype: int64"
            ]
          },
          "metadata": {
            "tags": []
          },
          "execution_count": 45
        }
      ]
    },
    {
      "cell_type": "code",
      "metadata": {
        "id": "zrNviD6E9s5K"
      },
      "source": [
        "df2.drop('Route',axis=1,inplace=True)"
      ],
      "execution_count": 46,
      "outputs": []
    },
    {
      "cell_type": "code",
      "metadata": {
        "colab": {
          "base_uri": "https://localhost:8080/"
        },
        "id": "21jR0_QPJ3TB",
        "outputId": "e5359c79-400e-4c7c-da04-2583b634c3bc"
      },
      "source": [
        "df2.isna().sum()"
      ],
      "execution_count": 47,
      "outputs": [
        {
          "output_type": "execute_result",
          "data": {
            "text/plain": [
              "Total_Stops                                      1\n",
              "Additional_Info                                  1\n",
              "Price                                            1\n",
              "journey_month                                    1\n",
              "journey_day                                      1\n",
              "dep_hour                                         1\n",
              "dep_min                                          1\n",
              "arrive_hour                                      1\n",
              "arrive_min                                       1\n",
              "duration_hr                                      1\n",
              "duration_min                                     1\n",
              "Airline_Air India                                1\n",
              "Airline_GoAir                                    1\n",
              "Airline_IndiGo                                   1\n",
              "Airline_Jet Airways                              1\n",
              "Airline_Jet Airways Business                     1\n",
              "Airline_Multiple carriers                        1\n",
              "Airline_Multiple carriers Premium economy        1\n",
              "Airline_SpiceJet                                 1\n",
              "Airline_Trujet                                   1\n",
              "Airline_Vistara                                  1\n",
              "Airline_Vistara Premium economy                  1\n",
              "Source_Chennai                                   1\n",
              "Source_Delhi                                     1\n",
              "Source_Kolkata                                   1\n",
              "Source_Mumbai                                    1\n",
              "Destination_Cochin                               1\n",
              "Destination_Delhi                                1\n",
              "Destination_Hyderabad                            1\n",
              "Destination_Kolkata                              1\n",
              "Route_1                                          1\n",
              "Route_2                                          1\n",
              "Route_3                                       3492\n",
              "Route_4                                       9117\n",
              "Route_5                                      10637\n",
              "dtype: int64"
            ]
          },
          "metadata": {
            "tags": []
          },
          "execution_count": 47
        }
      ]
    },
    {
      "cell_type": "code",
      "metadata": {
        "id": "LKjA0eL0X799"
      },
      "source": [
        "df3=df2.copy()"
      ],
      "execution_count": 48,
      "outputs": []
    },
    {
      "cell_type": "code",
      "metadata": {
        "id": "cWNSe7gb9s8i"
      },
      "source": [
        "for i in ['Route_3','Route_4','Route_5','Route_1','Route_2']:  # filling nan value with 0\n",
        "  df3[i]=df3[i].fillna('None')"
      ],
      "execution_count": 49,
      "outputs": []
    },
    {
      "cell_type": "code",
      "metadata": {
        "id": "69KXKW8bQ4VZ"
      },
      "source": [
        "df3.dropna(axis=0,inplace=True)"
      ],
      "execution_count": 50,
      "outputs": []
    },
    {
      "cell_type": "code",
      "metadata": {
        "colab": {
          "base_uri": "https://localhost:8080/"
        },
        "id": "JpKcmdel9tAg",
        "outputId": "0db029aa-14a3-405f-8583-02ad3ff72b26"
      },
      "source": [
        "df3.isna().sum()"
      ],
      "execution_count": 51,
      "outputs": [
        {
          "output_type": "execute_result",
          "data": {
            "text/plain": [
              "Total_Stops                                  0\n",
              "Additional_Info                              0\n",
              "Price                                        0\n",
              "journey_month                                0\n",
              "journey_day                                  0\n",
              "dep_hour                                     0\n",
              "dep_min                                      0\n",
              "arrive_hour                                  0\n",
              "arrive_min                                   0\n",
              "duration_hr                                  0\n",
              "duration_min                                 0\n",
              "Airline_Air India                            0\n",
              "Airline_GoAir                                0\n",
              "Airline_IndiGo                               0\n",
              "Airline_Jet Airways                          0\n",
              "Airline_Jet Airways Business                 0\n",
              "Airline_Multiple carriers                    0\n",
              "Airline_Multiple carriers Premium economy    0\n",
              "Airline_SpiceJet                             0\n",
              "Airline_Trujet                               0\n",
              "Airline_Vistara                              0\n",
              "Airline_Vistara Premium economy              0\n",
              "Source_Chennai                               0\n",
              "Source_Delhi                                 0\n",
              "Source_Kolkata                               0\n",
              "Source_Mumbai                                0\n",
              "Destination_Cochin                           0\n",
              "Destination_Delhi                            0\n",
              "Destination_Hyderabad                        0\n",
              "Destination_Kolkata                          0\n",
              "Route_1                                      0\n",
              "Route_2                                      0\n",
              "Route_3                                      0\n",
              "Route_4                                      0\n",
              "Route_5                                      0\n",
              "dtype: int64"
            ]
          },
          "metadata": {
            "tags": []
          },
          "execution_count": 51
        }
      ]
    },
    {
      "cell_type": "code",
      "metadata": {
        "id": "pS6zWaisEYXW",
        "colab": {
          "base_uri": "https://localhost:8080/"
        },
        "outputId": "62292106-f4e5-4e67-9ff8-920902bf28a3"
      },
      "source": [
        "cont_col=[col for col in df3.columns if df3[col].dtype!='O']  # continous columns\n",
        "cont_col"
      ],
      "execution_count": 52,
      "outputs": [
        {
          "output_type": "execute_result",
          "data": {
            "text/plain": [
              "['Price',\n",
              " 'journey_month',\n",
              " 'journey_day',\n",
              " 'dep_hour',\n",
              " 'dep_min',\n",
              " 'arrive_hour',\n",
              " 'arrive_min',\n",
              " 'duration_hr',\n",
              " 'duration_min',\n",
              " 'Airline_Air India',\n",
              " 'Airline_GoAir',\n",
              " 'Airline_IndiGo',\n",
              " 'Airline_Jet Airways',\n",
              " 'Airline_Jet Airways Business',\n",
              " 'Airline_Multiple carriers',\n",
              " 'Airline_Multiple carriers Premium economy',\n",
              " 'Airline_SpiceJet',\n",
              " 'Airline_Trujet',\n",
              " 'Airline_Vistara',\n",
              " 'Airline_Vistara Premium economy',\n",
              " 'Source_Chennai',\n",
              " 'Source_Delhi',\n",
              " 'Source_Kolkata',\n",
              " 'Source_Mumbai',\n",
              " 'Destination_Cochin',\n",
              " 'Destination_Delhi',\n",
              " 'Destination_Hyderabad',\n",
              " 'Destination_Kolkata']"
            ]
          },
          "metadata": {
            "tags": []
          },
          "execution_count": 52
        }
      ]
    },
    {
      "cell_type": "code",
      "metadata": {
        "colab": {
          "base_uri": "https://localhost:8080/"
        },
        "id": "ZRpCPyCD9tEa",
        "outputId": "fd42b842-25a5-4c0b-9269-736b734898c9"
      },
      "source": [
        "cat_col=[col for col in df3.columns if df3[col].dtype=='O']  # categoricals columns\n",
        "cat_col"
      ],
      "execution_count": 53,
      "outputs": [
        {
          "output_type": "execute_result",
          "data": {
            "text/plain": [
              "['Total_Stops',\n",
              " 'Additional_Info',\n",
              " 'Route_1',\n",
              " 'Route_2',\n",
              " 'Route_3',\n",
              " 'Route_4',\n",
              " 'Route_5']"
            ]
          },
          "metadata": {
            "tags": []
          },
          "execution_count": 53
        }
      ]
    },
    {
      "cell_type": "code",
      "metadata": {
        "id": "DqoLLqQSM6CT"
      },
      "source": [
        "from sklearn.preprocessing import LabelEncoder\n",
        "lb=LabelEncoder()\n"
      ],
      "execution_count": 54,
      "outputs": []
    },
    {
      "cell_type": "code",
      "metadata": {
        "colab": {
          "base_uri": "https://localhost:8080/"
        },
        "id": "TfqH3UqfUQvk",
        "outputId": "cea85f80-97a0-437b-972c-a1f1e657e39e"
      },
      "source": [
        "my_col=cat_col[2:len(cat_col)]\n",
        "my_col"
      ],
      "execution_count": 55,
      "outputs": [
        {
          "output_type": "execute_result",
          "data": {
            "text/plain": [
              "['Route_1', 'Route_2', 'Route_3', 'Route_4', 'Route_5']"
            ]
          },
          "metadata": {
            "tags": []
          },
          "execution_count": 55
        }
      ]
    },
    {
      "cell_type": "code",
      "metadata": {
        "id": "dIh32oGwM6FK"
      },
      "source": [
        "for i in my_col:\n",
        "  df3[i]=lb.fit_transform(df3[i])   # applying label encoder"
      ],
      "execution_count": 56,
      "outputs": []
    },
    {
      "cell_type": "code",
      "metadata": {
        "colab": {
          "base_uri": "https://localhost:8080/"
        },
        "id": "pi73heLDM6IC",
        "outputId": "b9474294-ebd5-40e8-f036-3744fe542613"
      },
      "source": [
        "df3.shape"
      ],
      "execution_count": 57,
      "outputs": [
        {
          "output_type": "execute_result",
          "data": {
            "text/plain": [
              "(10681, 35)"
            ]
          },
          "metadata": {
            "tags": []
          },
          "execution_count": 57
        }
      ]
    },
    {
      "cell_type": "code",
      "metadata": {
        "colab": {
          "base_uri": "https://localhost:8080/",
          "height": 163
        },
        "id": "Pqc4Xc6LM6KR",
        "outputId": "b07eda65-95c5-4a06-f07f-37c32143c4b6"
      },
      "source": [
        "df3.head(2)"
      ],
      "execution_count": 58,
      "outputs": [
        {
          "output_type": "execute_result",
          "data": {
            "text/html": [
              "<div>\n",
              "<style scoped>\n",
              "    .dataframe tbody tr th:only-of-type {\n",
              "        vertical-align: middle;\n",
              "    }\n",
              "\n",
              "    .dataframe tbody tr th {\n",
              "        vertical-align: top;\n",
              "    }\n",
              "\n",
              "    .dataframe thead th {\n",
              "        text-align: right;\n",
              "    }\n",
              "</style>\n",
              "<table border=\"1\" class=\"dataframe\">\n",
              "  <thead>\n",
              "    <tr style=\"text-align: right;\">\n",
              "      <th></th>\n",
              "      <th>Total_Stops</th>\n",
              "      <th>Additional_Info</th>\n",
              "      <th>Price</th>\n",
              "      <th>journey_month</th>\n",
              "      <th>journey_day</th>\n",
              "      <th>dep_hour</th>\n",
              "      <th>dep_min</th>\n",
              "      <th>arrive_hour</th>\n",
              "      <th>arrive_min</th>\n",
              "      <th>duration_hr</th>\n",
              "      <th>duration_min</th>\n",
              "      <th>Airline_Air India</th>\n",
              "      <th>Airline_GoAir</th>\n",
              "      <th>Airline_IndiGo</th>\n",
              "      <th>Airline_Jet Airways</th>\n",
              "      <th>Airline_Jet Airways Business</th>\n",
              "      <th>Airline_Multiple carriers</th>\n",
              "      <th>Airline_Multiple carriers Premium economy</th>\n",
              "      <th>Airline_SpiceJet</th>\n",
              "      <th>Airline_Trujet</th>\n",
              "      <th>Airline_Vistara</th>\n",
              "      <th>Airline_Vistara Premium economy</th>\n",
              "      <th>Source_Chennai</th>\n",
              "      <th>Source_Delhi</th>\n",
              "      <th>Source_Kolkata</th>\n",
              "      <th>Source_Mumbai</th>\n",
              "      <th>Destination_Cochin</th>\n",
              "      <th>Destination_Delhi</th>\n",
              "      <th>Destination_Hyderabad</th>\n",
              "      <th>Destination_Kolkata</th>\n",
              "      <th>Route_1</th>\n",
              "      <th>Route_2</th>\n",
              "      <th>Route_3</th>\n",
              "      <th>Route_4</th>\n",
              "      <th>Route_5</th>\n",
              "    </tr>\n",
              "  </thead>\n",
              "  <tbody>\n",
              "    <tr>\n",
              "      <th>0</th>\n",
              "      <td>non-stop</td>\n",
              "      <td>No info</td>\n",
              "      <td>3897.0</td>\n",
              "      <td>3.0</td>\n",
              "      <td>24.0</td>\n",
              "      <td>22.0</td>\n",
              "      <td>20.0</td>\n",
              "      <td>1.0</td>\n",
              "      <td>10.0</td>\n",
              "      <td>2.0</td>\n",
              "      <td>50.0</td>\n",
              "      <td>0.0</td>\n",
              "      <td>0.0</td>\n",
              "      <td>1.0</td>\n",
              "      <td>0.0</td>\n",
              "      <td>0.0</td>\n",
              "      <td>0.0</td>\n",
              "      <td>0.0</td>\n",
              "      <td>0.0</td>\n",
              "      <td>0.0</td>\n",
              "      <td>0.0</td>\n",
              "      <td>0.0</td>\n",
              "      <td>0.0</td>\n",
              "      <td>0.0</td>\n",
              "      <td>0.0</td>\n",
              "      <td>0.0</td>\n",
              "      <td>0.0</td>\n",
              "      <td>1.0</td>\n",
              "      <td>0.0</td>\n",
              "      <td>0.0</td>\n",
              "      <td>0</td>\n",
              "      <td>13</td>\n",
              "      <td>29</td>\n",
              "      <td>13</td>\n",
              "      <td>5</td>\n",
              "    </tr>\n",
              "    <tr>\n",
              "      <th>1</th>\n",
              "      <td>2 stops</td>\n",
              "      <td>No info</td>\n",
              "      <td>7662.0</td>\n",
              "      <td>1.0</td>\n",
              "      <td>5.0</td>\n",
              "      <td>5.0</td>\n",
              "      <td>50.0</td>\n",
              "      <td>13.0</td>\n",
              "      <td>15.0</td>\n",
              "      <td>7.0</td>\n",
              "      <td>25.0</td>\n",
              "      <td>1.0</td>\n",
              "      <td>0.0</td>\n",
              "      <td>0.0</td>\n",
              "      <td>0.0</td>\n",
              "      <td>0.0</td>\n",
              "      <td>0.0</td>\n",
              "      <td>0.0</td>\n",
              "      <td>0.0</td>\n",
              "      <td>0.0</td>\n",
              "      <td>0.0</td>\n",
              "      <td>0.0</td>\n",
              "      <td>0.0</td>\n",
              "      <td>0.0</td>\n",
              "      <td>1.0</td>\n",
              "      <td>0.0</td>\n",
              "      <td>0.0</td>\n",
              "      <td>0.0</td>\n",
              "      <td>0.0</td>\n",
              "      <td>0.0</td>\n",
              "      <td>2</td>\n",
              "      <td>25</td>\n",
              "      <td>1</td>\n",
              "      <td>3</td>\n",
              "      <td>5</td>\n",
              "    </tr>\n",
              "  </tbody>\n",
              "</table>\n",
              "</div>"
            ],
            "text/plain": [
              "  Total_Stops Additional_Info   Price  journey_month  journey_day  dep_hour  \\\n",
              "0    non-stop         No info  3897.0            3.0         24.0      22.0   \n",
              "1     2 stops         No info  7662.0            1.0          5.0       5.0   \n",
              "\n",
              "   dep_min  arrive_hour  arrive_min  duration_hr  duration_min  \\\n",
              "0     20.0          1.0        10.0          2.0          50.0   \n",
              "1     50.0         13.0        15.0          7.0          25.0   \n",
              "\n",
              "   Airline_Air India  Airline_GoAir  Airline_IndiGo  Airline_Jet Airways  \\\n",
              "0                0.0            0.0             1.0                  0.0   \n",
              "1                1.0            0.0             0.0                  0.0   \n",
              "\n",
              "   Airline_Jet Airways Business  Airline_Multiple carriers  \\\n",
              "0                           0.0                        0.0   \n",
              "1                           0.0                        0.0   \n",
              "\n",
              "   Airline_Multiple carriers Premium economy  Airline_SpiceJet  \\\n",
              "0                                        0.0               0.0   \n",
              "1                                        0.0               0.0   \n",
              "\n",
              "   Airline_Trujet  Airline_Vistara  Airline_Vistara Premium economy  \\\n",
              "0             0.0              0.0                              0.0   \n",
              "1             0.0              0.0                              0.0   \n",
              "\n",
              "   Source_Chennai  Source_Delhi  Source_Kolkata  Source_Mumbai  \\\n",
              "0             0.0           0.0             0.0            0.0   \n",
              "1             0.0           0.0             1.0            0.0   \n",
              "\n",
              "   Destination_Cochin  Destination_Delhi  Destination_Hyderabad  \\\n",
              "0                 0.0                1.0                    0.0   \n",
              "1                 0.0                0.0                    0.0   \n",
              "\n",
              "   Destination_Kolkata  Route_1  Route_2  Route_3  Route_4  Route_5  \n",
              "0                  0.0        0       13       29       13        5  \n",
              "1                  0.0        2       25        1        3        5  "
            ]
          },
          "metadata": {
            "tags": []
          },
          "execution_count": 58
        }
      ]
    },
    {
      "cell_type": "code",
      "metadata": {
        "id": "yB78I5ZVM6Nd"
      },
      "source": [
        "df3.drop('Additional_Info',axis=1,inplace=True)  # dropping this columns has it no varation in data"
      ],
      "execution_count": 59,
      "outputs": []
    },
    {
      "cell_type": "code",
      "metadata": {
        "colab": {
          "base_uri": "https://localhost:8080/"
        },
        "id": "FdpRIcrUM6QZ",
        "outputId": "3ed1aa14-74e8-4eea-a69a-fefcc6257fcb"
      },
      "source": [
        "df3['Total_Stops'].unique()"
      ],
      "execution_count": 60,
      "outputs": [
        {
          "output_type": "execute_result",
          "data": {
            "text/plain": [
              "array(['non-stop', '2 stops', '1 stop', '3 stops', '4 stops'],\n",
              "      dtype=object)"
            ]
          },
          "metadata": {
            "tags": []
          },
          "execution_count": 60
        }
      ]
    },
    {
      "cell_type": "code",
      "metadata": {
        "colab": {
          "base_uri": "https://localhost:8080/"
        },
        "id": "w2BRHk8PM6Tq",
        "outputId": "a2798d60-19ce-426e-de13-28c95b1ac1d1"
      },
      "source": [
        "my_dict={'non-stop':0, '2 stops':2, '1 stop':1, '3 stops':3, '4 stops':4}  # lceaning stops columns\n",
        "my_dict"
      ],
      "execution_count": 61,
      "outputs": [
        {
          "output_type": "execute_result",
          "data": {
            "text/plain": [
              "{'1 stop': 1, '2 stops': 2, '3 stops': 3, '4 stops': 4, 'non-stop': 0}"
            ]
          },
          "metadata": {
            "tags": []
          },
          "execution_count": 61
        }
      ]
    },
    {
      "cell_type": "code",
      "metadata": {
        "id": "PXRDa3VuM6aS"
      },
      "source": [
        "df3['Total_Stops']=df3['Total_Stops'].map(my_dict)"
      ],
      "execution_count": 62,
      "outputs": []
    },
    {
      "cell_type": "code",
      "metadata": {
        "colab": {
          "base_uri": "https://localhost:8080/",
          "height": 255
        },
        "id": "Nom54tAhM6ix",
        "outputId": "84f3d7d2-1808-4e51-f901-818188b0c3a0"
      },
      "source": [
        "df3.head()"
      ],
      "execution_count": 63,
      "outputs": [
        {
          "output_type": "execute_result",
          "data": {
            "text/html": [
              "<div>\n",
              "<style scoped>\n",
              "    .dataframe tbody tr th:only-of-type {\n",
              "        vertical-align: middle;\n",
              "    }\n",
              "\n",
              "    .dataframe tbody tr th {\n",
              "        vertical-align: top;\n",
              "    }\n",
              "\n",
              "    .dataframe thead th {\n",
              "        text-align: right;\n",
              "    }\n",
              "</style>\n",
              "<table border=\"1\" class=\"dataframe\">\n",
              "  <thead>\n",
              "    <tr style=\"text-align: right;\">\n",
              "      <th></th>\n",
              "      <th>Total_Stops</th>\n",
              "      <th>Price</th>\n",
              "      <th>journey_month</th>\n",
              "      <th>journey_day</th>\n",
              "      <th>dep_hour</th>\n",
              "      <th>dep_min</th>\n",
              "      <th>arrive_hour</th>\n",
              "      <th>arrive_min</th>\n",
              "      <th>duration_hr</th>\n",
              "      <th>duration_min</th>\n",
              "      <th>Airline_Air India</th>\n",
              "      <th>Airline_GoAir</th>\n",
              "      <th>Airline_IndiGo</th>\n",
              "      <th>Airline_Jet Airways</th>\n",
              "      <th>Airline_Jet Airways Business</th>\n",
              "      <th>Airline_Multiple carriers</th>\n",
              "      <th>Airline_Multiple carriers Premium economy</th>\n",
              "      <th>Airline_SpiceJet</th>\n",
              "      <th>Airline_Trujet</th>\n",
              "      <th>Airline_Vistara</th>\n",
              "      <th>Airline_Vistara Premium economy</th>\n",
              "      <th>Source_Chennai</th>\n",
              "      <th>Source_Delhi</th>\n",
              "      <th>Source_Kolkata</th>\n",
              "      <th>Source_Mumbai</th>\n",
              "      <th>Destination_Cochin</th>\n",
              "      <th>Destination_Delhi</th>\n",
              "      <th>Destination_Hyderabad</th>\n",
              "      <th>Destination_Kolkata</th>\n",
              "      <th>Route_1</th>\n",
              "      <th>Route_2</th>\n",
              "      <th>Route_3</th>\n",
              "      <th>Route_4</th>\n",
              "      <th>Route_5</th>\n",
              "    </tr>\n",
              "  </thead>\n",
              "  <tbody>\n",
              "    <tr>\n",
              "      <th>0</th>\n",
              "      <td>0</td>\n",
              "      <td>3897.0</td>\n",
              "      <td>3.0</td>\n",
              "      <td>24.0</td>\n",
              "      <td>22.0</td>\n",
              "      <td>20.0</td>\n",
              "      <td>1.0</td>\n",
              "      <td>10.0</td>\n",
              "      <td>2.0</td>\n",
              "      <td>50.0</td>\n",
              "      <td>0.0</td>\n",
              "      <td>0.0</td>\n",
              "      <td>1.0</td>\n",
              "      <td>0.0</td>\n",
              "      <td>0.0</td>\n",
              "      <td>0.0</td>\n",
              "      <td>0.0</td>\n",
              "      <td>0.0</td>\n",
              "      <td>0.0</td>\n",
              "      <td>0.0</td>\n",
              "      <td>0.0</td>\n",
              "      <td>0.0</td>\n",
              "      <td>0.0</td>\n",
              "      <td>0.0</td>\n",
              "      <td>0.0</td>\n",
              "      <td>0.0</td>\n",
              "      <td>1.0</td>\n",
              "      <td>0.0</td>\n",
              "      <td>0.0</td>\n",
              "      <td>0</td>\n",
              "      <td>13</td>\n",
              "      <td>29</td>\n",
              "      <td>13</td>\n",
              "      <td>5</td>\n",
              "    </tr>\n",
              "    <tr>\n",
              "      <th>1</th>\n",
              "      <td>2</td>\n",
              "      <td>7662.0</td>\n",
              "      <td>1.0</td>\n",
              "      <td>5.0</td>\n",
              "      <td>5.0</td>\n",
              "      <td>50.0</td>\n",
              "      <td>13.0</td>\n",
              "      <td>15.0</td>\n",
              "      <td>7.0</td>\n",
              "      <td>25.0</td>\n",
              "      <td>1.0</td>\n",
              "      <td>0.0</td>\n",
              "      <td>0.0</td>\n",
              "      <td>0.0</td>\n",
              "      <td>0.0</td>\n",
              "      <td>0.0</td>\n",
              "      <td>0.0</td>\n",
              "      <td>0.0</td>\n",
              "      <td>0.0</td>\n",
              "      <td>0.0</td>\n",
              "      <td>0.0</td>\n",
              "      <td>0.0</td>\n",
              "      <td>0.0</td>\n",
              "      <td>1.0</td>\n",
              "      <td>0.0</td>\n",
              "      <td>0.0</td>\n",
              "      <td>0.0</td>\n",
              "      <td>0.0</td>\n",
              "      <td>0.0</td>\n",
              "      <td>2</td>\n",
              "      <td>25</td>\n",
              "      <td>1</td>\n",
              "      <td>3</td>\n",
              "      <td>5</td>\n",
              "    </tr>\n",
              "    <tr>\n",
              "      <th>2</th>\n",
              "      <td>2</td>\n",
              "      <td>13882.0</td>\n",
              "      <td>9.0</td>\n",
              "      <td>6.0</td>\n",
              "      <td>9.0</td>\n",
              "      <td>25.0</td>\n",
              "      <td>4.0</td>\n",
              "      <td>25.0</td>\n",
              "      <td>19.0</td>\n",
              "      <td>0.0</td>\n",
              "      <td>0.0</td>\n",
              "      <td>0.0</td>\n",
              "      <td>0.0</td>\n",
              "      <td>1.0</td>\n",
              "      <td>0.0</td>\n",
              "      <td>0.0</td>\n",
              "      <td>0.0</td>\n",
              "      <td>0.0</td>\n",
              "      <td>0.0</td>\n",
              "      <td>0.0</td>\n",
              "      <td>0.0</td>\n",
              "      <td>0.0</td>\n",
              "      <td>1.0</td>\n",
              "      <td>0.0</td>\n",
              "      <td>0.0</td>\n",
              "      <td>1.0</td>\n",
              "      <td>0.0</td>\n",
              "      <td>0.0</td>\n",
              "      <td>0.0</td>\n",
              "      <td>3</td>\n",
              "      <td>32</td>\n",
              "      <td>4</td>\n",
              "      <td>5</td>\n",
              "      <td>5</td>\n",
              "    </tr>\n",
              "    <tr>\n",
              "      <th>3</th>\n",
              "      <td>1</td>\n",
              "      <td>6218.0</td>\n",
              "      <td>12.0</td>\n",
              "      <td>5.0</td>\n",
              "      <td>18.0</td>\n",
              "      <td>5.0</td>\n",
              "      <td>23.0</td>\n",
              "      <td>30.0</td>\n",
              "      <td>5.0</td>\n",
              "      <td>25.0</td>\n",
              "      <td>0.0</td>\n",
              "      <td>0.0</td>\n",
              "      <td>1.0</td>\n",
              "      <td>0.0</td>\n",
              "      <td>0.0</td>\n",
              "      <td>0.0</td>\n",
              "      <td>0.0</td>\n",
              "      <td>0.0</td>\n",
              "      <td>0.0</td>\n",
              "      <td>0.0</td>\n",
              "      <td>0.0</td>\n",
              "      <td>0.0</td>\n",
              "      <td>0.0</td>\n",
              "      <td>1.0</td>\n",
              "      <td>0.0</td>\n",
              "      <td>0.0</td>\n",
              "      <td>0.0</td>\n",
              "      <td>0.0</td>\n",
              "      <td>0.0</td>\n",
              "      <td>2</td>\n",
              "      <td>34</td>\n",
              "      <td>3</td>\n",
              "      <td>13</td>\n",
              "      <td>5</td>\n",
              "    </tr>\n",
              "    <tr>\n",
              "      <th>4</th>\n",
              "      <td>1</td>\n",
              "      <td>13302.0</td>\n",
              "      <td>1.0</td>\n",
              "      <td>3.0</td>\n",
              "      <td>16.0</td>\n",
              "      <td>50.0</td>\n",
              "      <td>21.0</td>\n",
              "      <td>35.0</td>\n",
              "      <td>4.0</td>\n",
              "      <td>45.0</td>\n",
              "      <td>0.0</td>\n",
              "      <td>0.0</td>\n",
              "      <td>1.0</td>\n",
              "      <td>0.0</td>\n",
              "      <td>0.0</td>\n",
              "      <td>0.0</td>\n",
              "      <td>0.0</td>\n",
              "      <td>0.0</td>\n",
              "      <td>0.0</td>\n",
              "      <td>0.0</td>\n",
              "      <td>0.0</td>\n",
              "      <td>0.0</td>\n",
              "      <td>0.0</td>\n",
              "      <td>0.0</td>\n",
              "      <td>0.0</td>\n",
              "      <td>0.0</td>\n",
              "      <td>1.0</td>\n",
              "      <td>0.0</td>\n",
              "      <td>0.0</td>\n",
              "      <td>0</td>\n",
              "      <td>34</td>\n",
              "      <td>8</td>\n",
              "      <td>13</td>\n",
              "      <td>5</td>\n",
              "    </tr>\n",
              "  </tbody>\n",
              "</table>\n",
              "</div>"
            ],
            "text/plain": [
              "   Total_Stops    Price  journey_month  journey_day  dep_hour  dep_min  \\\n",
              "0            0   3897.0            3.0         24.0      22.0     20.0   \n",
              "1            2   7662.0            1.0          5.0       5.0     50.0   \n",
              "2            2  13882.0            9.0          6.0       9.0     25.0   \n",
              "3            1   6218.0           12.0          5.0      18.0      5.0   \n",
              "4            1  13302.0            1.0          3.0      16.0     50.0   \n",
              "\n",
              "   arrive_hour  arrive_min  duration_hr  duration_min  Airline_Air India  \\\n",
              "0          1.0        10.0          2.0          50.0                0.0   \n",
              "1         13.0        15.0          7.0          25.0                1.0   \n",
              "2          4.0        25.0         19.0           0.0                0.0   \n",
              "3         23.0        30.0          5.0          25.0                0.0   \n",
              "4         21.0        35.0          4.0          45.0                0.0   \n",
              "\n",
              "   Airline_GoAir  Airline_IndiGo  Airline_Jet Airways  \\\n",
              "0            0.0             1.0                  0.0   \n",
              "1            0.0             0.0                  0.0   \n",
              "2            0.0             0.0                  1.0   \n",
              "3            0.0             1.0                  0.0   \n",
              "4            0.0             1.0                  0.0   \n",
              "\n",
              "   Airline_Jet Airways Business  Airline_Multiple carriers  \\\n",
              "0                           0.0                        0.0   \n",
              "1                           0.0                        0.0   \n",
              "2                           0.0                        0.0   \n",
              "3                           0.0                        0.0   \n",
              "4                           0.0                        0.0   \n",
              "\n",
              "   Airline_Multiple carriers Premium economy  Airline_SpiceJet  \\\n",
              "0                                        0.0               0.0   \n",
              "1                                        0.0               0.0   \n",
              "2                                        0.0               0.0   \n",
              "3                                        0.0               0.0   \n",
              "4                                        0.0               0.0   \n",
              "\n",
              "   Airline_Trujet  Airline_Vistara  Airline_Vistara Premium economy  \\\n",
              "0             0.0              0.0                              0.0   \n",
              "1             0.0              0.0                              0.0   \n",
              "2             0.0              0.0                              0.0   \n",
              "3             0.0              0.0                              0.0   \n",
              "4             0.0              0.0                              0.0   \n",
              "\n",
              "   Source_Chennai  Source_Delhi  Source_Kolkata  Source_Mumbai  \\\n",
              "0             0.0           0.0             0.0            0.0   \n",
              "1             0.0           0.0             1.0            0.0   \n",
              "2             0.0           1.0             0.0            0.0   \n",
              "3             0.0           0.0             1.0            0.0   \n",
              "4             0.0           0.0             0.0            0.0   \n",
              "\n",
              "   Destination_Cochin  Destination_Delhi  Destination_Hyderabad  \\\n",
              "0                 0.0                1.0                    0.0   \n",
              "1                 0.0                0.0                    0.0   \n",
              "2                 1.0                0.0                    0.0   \n",
              "3                 0.0                0.0                    0.0   \n",
              "4                 0.0                1.0                    0.0   \n",
              "\n",
              "   Destination_Kolkata  Route_1  Route_2  Route_3  Route_4  Route_5  \n",
              "0                  0.0        0       13       29       13        5  \n",
              "1                  0.0        2       25        1        3        5  \n",
              "2                  0.0        3       32        4        5        5  \n",
              "3                  0.0        2       34        3       13        5  \n",
              "4                  0.0        0       34        8       13        5  "
            ]
          },
          "metadata": {
            "tags": []
          },
          "execution_count": 63
        }
      ]
    },
    {
      "cell_type": "markdown",
      "metadata": {
        "id": "iW49QnNVZ-T_"
      },
      "source": [
        "**Removing Outliers**"
      ]
    },
    {
      "cell_type": "code",
      "metadata": {
        "id": "ycPxKEf-chlk"
      },
      "source": [
        "import matplotlib.pyplot as plt\n",
        "import seaborn as sns\n",
        "import warnings\n",
        "warnings.simplefilter(action='ignore', category=Warning)\n",
        "\n",
        "def plot(df,col):\n",
        "  fig,(ax1,ax2)=plt.subplots(2,1)\n",
        "  sns.distplot(df[col],ax=ax1)\n",
        "  sns.boxplot(df[col],ax=ax2)"
      ],
      "execution_count": 64,
      "outputs": []
    },
    {
      "cell_type": "code",
      "metadata": {
        "colab": {
          "base_uri": "https://localhost:8080/",
          "height": 278
        },
        "id": "qZmtj3IWchoj",
        "outputId": "5afcae48-9f81-4346-d172-26d0ed5466df"
      },
      "source": [
        "plot(df3,'Price')  # this columns is positive skwed so outliers exist in the right hand side as shown in figure which need to be fix"
      ],
      "execution_count": null,
      "outputs": [
        {
          "output_type": "display_data",
          "data": {
            "image/png": "[encoded data removed]",
            "text/plain": [
              "<Figure size 432x288 with 2 Axes>"
            ]
          },
          "metadata": {
            "tags": [],
            "needs_background": "light"
          }
        }
      ]
    },
    {
      "cell_type": "code",
      "metadata": {
        "id": "71Oe0aJqchro"
      },
      "source": [
        "import numpy as np\n",
        "df3['Price']=np.where(df3['Price']>40000,df3['Price'].median(),df3['Price'])   # i haave treated all above 40,000 as outliers"
      ],
      "execution_count": 65,
      "outputs": []
    },
    {
      "cell_type": "code",
      "metadata": {
        "colab": {
          "base_uri": "https://localhost:8080/",
          "height": 278
        },
        "id": "VMmPvGIFchul",
        "outputId": "b1174d87-01b3-4496-86a5-b6cdd2295fda"
      },
      "source": [
        "plot(df3,'Price')  # after removing outliers"
      ],
      "execution_count": null,
      "outputs": [
        {
          "output_type": "display_data",
          "data": {
            "image/png": "[encoded data removed]",
            "text/plain": [
              "<Figure size 432x288 with 2 Axes>"
            ]
          },
          "metadata": {
            "tags": [],
            "needs_background": "light"
          }
        }
      ]
    },
    {
      "cell_type": "code",
      "metadata": {
        "id": "muxag6A8chx7"
      },
      "source": [
        "X=df3.drop('Price',axis=1)  # independent feature\n",
        "y=df3.Price  #dependent feature"
      ],
      "execution_count": 66,
      "outputs": []
    },
    {
      "cell_type": "code",
      "metadata": {
        "colab": {
          "base_uri": "https://localhost:8080/"
        },
        "id": "ilPSR5A-ciOq",
        "outputId": "77f2c377-bdc0-4a38-e356-61cd877811b8"
      },
      "source": [
        "from sklearn.feature_selection import mutual_info_classif  # feature extraction\n",
        "mutual_info_classif(X,y)\n"
      ],
      "execution_count": 67,
      "outputs": [
        {
          "output_type": "execute_result",
          "data": {
            "text/plain": [
              "array([2.14297608e+00, 8.80206245e-01, 1.08342001e+00, 1.40693380e+00,\n",
              "       1.20563437e+00, 1.81731105e+00, 1.56205405e+00, 1.79649202e+00,\n",
              "       1.07434096e+00, 5.64780231e-01, 7.27462426e-02, 5.13645431e-01,\n",
              "       6.36217115e-01, 0.00000000e+00, 4.05193527e-01, 1.05086329e-03,\n",
              "       2.22587152e-01, 0.00000000e+00, 1.52008653e-01, 9.86889657e-03,\n",
              "       1.35692795e-01, 1.15970540e+00, 6.21704487e-01, 2.04723507e-01,\n",
              "       1.21013523e+00, 4.87224514e-01, 1.96943076e-01, 1.27025024e-01,\n",
              "       2.08463129e+00, 2.76757763e+00, 2.29173375e+00, 1.40641551e+00,\n",
              "       7.53526135e-01])"
            ]
          },
          "metadata": {
            "tags": []
          },
          "execution_count": 67
        }
      ]
    },
    {
      "cell_type": "code",
      "metadata": {
        "colab": {
          "base_uri": "https://localhost:8080/",
          "height": 1000
        },
        "id": "4dMPabgVciSc",
        "outputId": "e7708947-5b63-49db-91d5-89d6b6b091ec"
      },
      "source": [
        "df_score=pd.DataFrame(mutual_info_classif(X,y),index=X.columns)\n",
        "df_score.columns=['feature_score']\n",
        "df_score=df_score.sort_values(by='feature_score',ascending=False)\n",
        "df_score"
      ],
      "execution_count": 68,
      "outputs": [
        {
          "output_type": "execute_result",
          "data": {
            "text/html": [
              "<div>\n",
              "<style scoped>\n",
              "    .dataframe tbody tr th:only-of-type {\n",
              "        vertical-align: middle;\n",
              "    }\n",
              "\n",
              "    .dataframe tbody tr th {\n",
              "        vertical-align: top;\n",
              "    }\n",
              "\n",
              "    .dataframe thead th {\n",
              "        text-align: right;\n",
              "    }\n",
              "</style>\n",
              "<table border=\"1\" class=\"dataframe\">\n",
              "  <thead>\n",
              "    <tr style=\"text-align: right;\">\n",
              "      <th></th>\n",
              "      <th>feature_score</th>\n",
              "    </tr>\n",
              "  </thead>\n",
              "  <tbody>\n",
              "    <tr>\n",
              "      <th>Route_2</th>\n",
              "      <td>2.804673</td>\n",
              "    </tr>\n",
              "    <tr>\n",
              "      <th>Route_3</th>\n",
              "      <td>2.299283</td>\n",
              "    </tr>\n",
              "    <tr>\n",
              "      <th>Total_Stops</th>\n",
              "      <td>2.170606</td>\n",
              "    </tr>\n",
              "    <tr>\n",
              "      <th>Route_1</th>\n",
              "      <td>2.006515</td>\n",
              "    </tr>\n",
              "    <tr>\n",
              "      <th>arrive_hour</th>\n",
              "      <td>1.851245</td>\n",
              "    </tr>\n",
              "    <tr>\n",
              "      <th>duration_hr</th>\n",
              "      <td>1.784612</td>\n",
              "    </tr>\n",
              "    <tr>\n",
              "      <th>arrive_min</th>\n",
              "      <td>1.537750</td>\n",
              "    </tr>\n",
              "    <tr>\n",
              "      <th>Route_4</th>\n",
              "      <td>1.442588</td>\n",
              "    </tr>\n",
              "    <tr>\n",
              "      <th>dep_hour</th>\n",
              "      <td>1.427467</td>\n",
              "    </tr>\n",
              "    <tr>\n",
              "      <th>dep_min</th>\n",
              "      <td>1.232848</td>\n",
              "    </tr>\n",
              "    <tr>\n",
              "      <th>Destination_Cochin</th>\n",
              "      <td>1.168675</td>\n",
              "    </tr>\n",
              "    <tr>\n",
              "      <th>Source_Delhi</th>\n",
              "      <td>1.166194</td>\n",
              "    </tr>\n",
              "    <tr>\n",
              "      <th>journey_day</th>\n",
              "      <td>1.089467</td>\n",
              "    </tr>\n",
              "    <tr>\n",
              "      <th>duration_min</th>\n",
              "      <td>1.061652</td>\n",
              "    </tr>\n",
              "    <tr>\n",
              "      <th>journey_month</th>\n",
              "      <td>0.898364</td>\n",
              "    </tr>\n",
              "    <tr>\n",
              "      <th>Route_5</th>\n",
              "      <td>0.734062</td>\n",
              "    </tr>\n",
              "    <tr>\n",
              "      <th>Airline_Jet Airways</th>\n",
              "      <td>0.634332</td>\n",
              "    </tr>\n",
              "    <tr>\n",
              "      <th>Source_Kolkata</th>\n",
              "      <td>0.614835</td>\n",
              "    </tr>\n",
              "    <tr>\n",
              "      <th>Airline_Air India</th>\n",
              "      <td>0.541914</td>\n",
              "    </tr>\n",
              "    <tr>\n",
              "      <th>Airline_IndiGo</th>\n",
              "      <td>0.513380</td>\n",
              "    </tr>\n",
              "    <tr>\n",
              "      <th>Destination_Delhi</th>\n",
              "      <td>0.492802</td>\n",
              "    </tr>\n",
              "    <tr>\n",
              "      <th>Airline_Multiple carriers</th>\n",
              "      <td>0.440793</td>\n",
              "    </tr>\n",
              "    <tr>\n",
              "      <th>Airline_SpiceJet</th>\n",
              "      <td>0.241900</td>\n",
              "    </tr>\n",
              "    <tr>\n",
              "      <th>Source_Mumbai</th>\n",
              "      <td>0.206060</td>\n",
              "    </tr>\n",
              "    <tr>\n",
              "      <th>Destination_Hyderabad</th>\n",
              "      <td>0.204718</td>\n",
              "    </tr>\n",
              "    <tr>\n",
              "      <th>Airline_Vistara</th>\n",
              "      <td>0.170131</td>\n",
              "    </tr>\n",
              "    <tr>\n",
              "      <th>Source_Chennai</th>\n",
              "      <td>0.127716</td>\n",
              "    </tr>\n",
              "    <tr>\n",
              "      <th>Destination_Kolkata</th>\n",
              "      <td>0.126615</td>\n",
              "    </tr>\n",
              "    <tr>\n",
              "      <th>Airline_GoAir</th>\n",
              "      <td>0.076043</td>\n",
              "    </tr>\n",
              "    <tr>\n",
              "      <th>Airline_Jet Airways Business</th>\n",
              "      <td>0.014829</td>\n",
              "    </tr>\n",
              "    <tr>\n",
              "      <th>Airline_Multiple carriers Premium economy</th>\n",
              "      <td>0.012966</td>\n",
              "    </tr>\n",
              "    <tr>\n",
              "      <th>Airline_Vistara Premium economy</th>\n",
              "      <td>0.007816</td>\n",
              "    </tr>\n",
              "    <tr>\n",
              "      <th>Airline_Trujet</th>\n",
              "      <td>0.001749</td>\n",
              "    </tr>\n",
              "  </tbody>\n",
              "</table>\n",
              "</div>"
            ],
            "text/plain": [
              "                                           feature_score\n",
              "Route_2                                         2.804673\n",
              "Route_3                                         2.299283\n",
              "Total_Stops                                     2.170606\n",
              "Route_1                                         2.006515\n",
              "arrive_hour                                     1.851245\n",
              "duration_hr                                     1.784612\n",
              "arrive_min                                      1.537750\n",
              "Route_4                                         1.442588\n",
              "dep_hour                                        1.427467\n",
              "dep_min                                         1.232848\n",
              "Destination_Cochin                              1.168675\n",
              "Source_Delhi                                    1.166194\n",
              "journey_day                                     1.089467\n",
              "duration_min                                    1.061652\n",
              "journey_month                                   0.898364\n",
              "Route_5                                         0.734062\n",
              "Airline_Jet Airways                             0.634332\n",
              "Source_Kolkata                                  0.614835\n",
              "Airline_Air India                               0.541914\n",
              "Airline_IndiGo                                  0.513380\n",
              "Destination_Delhi                               0.492802\n",
              "Airline_Multiple carriers                       0.440793\n",
              "Airline_SpiceJet                                0.241900\n",
              "Source_Mumbai                                   0.206060\n",
              "Destination_Hyderabad                           0.204718\n",
              "Airline_Vistara                                 0.170131\n",
              "Source_Chennai                                  0.127716\n",
              "Destination_Kolkata                             0.126615\n",
              "Airline_GoAir                                   0.076043\n",
              "Airline_Jet Airways Business                    0.014829\n",
              "Airline_Multiple carriers Premium economy       0.012966\n",
              "Airline_Vistara Premium economy                 0.007816\n",
              "Airline_Trujet                                  0.001749"
            ]
          },
          "metadata": {
            "tags": []
          },
          "execution_count": 68
        }
      ]
    },
    {
      "cell_type": "code",
      "metadata": {
        "colab": {
          "base_uri": "https://localhost:8080/",
          "height": 447
        },
        "id": "8trHvHCPhmcE",
        "outputId": "a04ab17a-9202-4f8e-b597-1cd3f64bdaca"
      },
      "source": [
        "df_score.nlargest(13,'feature_score')  # taking feature which are high rank according to score"
      ],
      "execution_count": 70,
      "outputs": [
        {
          "output_type": "execute_result",
          "data": {
            "text/html": [
              "<div>\n",
              "<style scoped>\n",
              "    .dataframe tbody tr th:only-of-type {\n",
              "        vertical-align: middle;\n",
              "    }\n",
              "\n",
              "    .dataframe tbody tr th {\n",
              "        vertical-align: top;\n",
              "    }\n",
              "\n",
              "    .dataframe thead th {\n",
              "        text-align: right;\n",
              "    }\n",
              "</style>\n",
              "<table border=\"1\" class=\"dataframe\">\n",
              "  <thead>\n",
              "    <tr style=\"text-align: right;\">\n",
              "      <th></th>\n",
              "      <th>feature_score</th>\n",
              "    </tr>\n",
              "  </thead>\n",
              "  <tbody>\n",
              "    <tr>\n",
              "      <th>Route_2</th>\n",
              "      <td>2.804673</td>\n",
              "    </tr>\n",
              "    <tr>\n",
              "      <th>Route_3</th>\n",
              "      <td>2.299283</td>\n",
              "    </tr>\n",
              "    <tr>\n",
              "      <th>Total_Stops</th>\n",
              "      <td>2.170606</td>\n",
              "    </tr>\n",
              "    <tr>\n",
              "      <th>Route_1</th>\n",
              "      <td>2.006515</td>\n",
              "    </tr>\n",
              "    <tr>\n",
              "      <th>arrive_hour</th>\n",
              "      <td>1.851245</td>\n",
              "    </tr>\n",
              "    <tr>\n",
              "      <th>duration_hr</th>\n",
              "      <td>1.784612</td>\n",
              "    </tr>\n",
              "    <tr>\n",
              "      <th>arrive_min</th>\n",
              "      <td>1.537750</td>\n",
              "    </tr>\n",
              "    <tr>\n",
              "      <th>Route_4</th>\n",
              "      <td>1.442588</td>\n",
              "    </tr>\n",
              "    <tr>\n",
              "      <th>dep_hour</th>\n",
              "      <td>1.427467</td>\n",
              "    </tr>\n",
              "    <tr>\n",
              "      <th>dep_min</th>\n",
              "      <td>1.232848</td>\n",
              "    </tr>\n",
              "    <tr>\n",
              "      <th>Destination_Cochin</th>\n",
              "      <td>1.168675</td>\n",
              "    </tr>\n",
              "    <tr>\n",
              "      <th>Source_Delhi</th>\n",
              "      <td>1.166194</td>\n",
              "    </tr>\n",
              "    <tr>\n",
              "      <th>journey_day</th>\n",
              "      <td>1.089467</td>\n",
              "    </tr>\n",
              "  </tbody>\n",
              "</table>\n",
              "</div>"
            ],
            "text/plain": [
              "                    feature_score\n",
              "Route_2                  2.804673\n",
              "Route_3                  2.299283\n",
              "Total_Stops              2.170606\n",
              "Route_1                  2.006515\n",
              "arrive_hour              1.851245\n",
              "duration_hr              1.784612\n",
              "arrive_min               1.537750\n",
              "Route_4                  1.442588\n",
              "dep_hour                 1.427467\n",
              "dep_min                  1.232848\n",
              "Destination_Cochin       1.168675\n",
              "Source_Delhi             1.166194\n",
              "journey_day              1.089467"
            ]
          },
          "metadata": {
            "tags": []
          },
          "execution_count": 70
        }
      ]
    },
    {
      "cell_type": "code",
      "metadata": {
        "colab": {
          "base_uri": "https://localhost:8080/"
        },
        "id": "9Pk1zn2FciVL",
        "outputId": "0a808bf7-344c-40da-9551-77495aba99bf"
      },
      "source": [
        "high_feat=list(df_score.nlargest(13,'feature_score').index)\n",
        "high_feat"
      ],
      "execution_count": 71,
      "outputs": [
        {
          "output_type": "execute_result",
          "data": {
            "text/plain": [
              "['Route_2',\n",
              " 'Route_3',\n",
              " 'Total_Stops',\n",
              " 'Route_1',\n",
              " 'arrive_hour',\n",
              " 'duration_hr',\n",
              " 'arrive_min',\n",
              " 'Route_4',\n",
              " 'dep_hour',\n",
              " 'dep_min',\n",
              " 'Destination_Cochin',\n",
              " 'Source_Delhi',\n",
              " 'journey_day']"
            ]
          },
          "metadata": {
            "tags": []
          },
          "execution_count": 71
        }
      ]
    },
    {
      "cell_type": "code",
      "metadata": {
        "id": "Oddmos4C3mzX"
      },
      "source": [
        "X=X[high_feat]"
      ],
      "execution_count": 72,
      "outputs": []
    },
    {
      "cell_type": "code",
      "metadata": {
        "id": "PnUl4LI-ciao"
      },
      "source": [
        "from sklearn.model_selection import train_test_split      # splitting data into train and test\n",
        "X_train,X_test,y_train,y_test=train_test_split(X,y,test_size=0.2,random_state=0)\n"
      ],
      "execution_count": 73,
      "outputs": []
    },
    {
      "cell_type": "code",
      "metadata": {
        "id": "5lGkt7tscidH"
      },
      "source": [
        "from sklearn.ensemble import RandomForestRegressor\n",
        "model=RandomForestRegressor()"
      ],
      "execution_count": 74,
      "outputs": []
    },
    {
      "cell_type": "code",
      "metadata": {
        "id": "8HONYHspcikp"
      },
      "source": [
        "modelml=model.fit(X_train,y_train)"
      ],
      "execution_count": 75,
      "outputs": []
    },
    {
      "cell_type": "code",
      "metadata": {
        "colab": {
          "base_uri": "https://localhost:8080/"
        },
        "id": "qWEzEUPvcim-",
        "outputId": "4259e863-b1b8-4fdc-b345-533afd179ff6"
      },
      "source": [
        "modelml.score(X_train,y_train) "
      ],
      "execution_count": 76,
      "outputs": [
        {
          "output_type": "execute_result",
          "data": {
            "text/plain": [
              "0.8971729691778731"
            ]
          },
          "metadata": {
            "tags": []
          },
          "execution_count": 76
        }
      ]
    },
    {
      "cell_type": "code",
      "metadata": {
        "id": "vUr4qs1wRJ18"
      },
      "source": [
        "from sklearn.metrics import mean_absolute_error\n",
        "from sklearn.metrics import mean_squared_error\n",
        "from sklearn.metrics import r2_score"
      ],
      "execution_count": 78,
      "outputs": []
    },
    {
      "cell_type": "code",
      "metadata": {
        "id": "1A7E-ZmZcitu"
      },
      "source": [
        "def predict(model):    # ceating fuccntion that test performance of my model\n",
        "  ml=model.fit(X_train,y_train)\n",
        "  sc=ml.score(X_train,y_train)\n",
        "  print(f' traing score: {sc}')\n",
        "  pred=ml.predict(X_test)\n",
        "  print(f' prediction are:\\n{pred}')\n",
        "  print('*'*30)\n",
        "  print(f' r2score:{r2_score(y_test,pred)}')\n",
        "  print('*'*30)\n",
        "  print(f' mean square error : {mean_squared_error(y_test,pred)}')\n",
        "  print('*'*30)\n",
        "  print(f' mean absolute error : {mean_absolute_error(y_test,pred)}')\n",
        "  print('*'*30)\n",
        "  print(f' root mean square error : {np.sqrt(mean_squared_error(y_test,pred))}')\n",
        "  print('*'*30)\n",
        "  plt.figure(figsize=(10,7))\n",
        "  sns.displot(y_test-pred)\n",
        "  plt.title('distribution plot of difference between actual value and predicted value')\n",
        "\n",
        "\n"
      ],
      "execution_count": 79,
      "outputs": []
    },
    {
      "cell_type": "code",
      "metadata": {
        "colab": {
          "base_uri": "https://localhost:8080/",
          "height": 633
        },
        "id": "JIC1RuRdQg8x",
        "outputId": "d2844445-726a-41ca-b7f5-a820303839ae"
      },
      "source": [
        "predict(RandomForestRegressor())"
      ],
      "execution_count": 80,
      "outputs": [
        {
          "output_type": "stream",
          "text": [
            " traing score: 0.8970509149811363\n",
            " prediction are:\n",
            "[11116.65833333 13345.48064069  9419.93       ... 11347.51633333\n",
            " 12298.87695238 14096.58607143]\n",
            "******************************\n",
            " r2score:0.7283108447022735\n",
            "******************************\n",
            " mean square error : 5234322.257738002\n",
            "******************************\n",
            " mean absolute error : 1430.2720450208546\n",
            "******************************\n",
            " root mean square error : 2287.8641257159484\n",
            "******************************\n"
          ],
          "name": "stdout"
        },
        {
          "output_type": "display_data",
          "data": {
            "text/plain": [
              "<Figure size 720x504 with 0 Axes>"
            ]
          },
          "metadata": {
            "tags": []
          }
        },
        {
          "output_type": "display_data",
          "data": {
            "image/png": "[encoded data removed]",
            "text/plain": [
              "<Figure size 360x360 with 1 Axes>"
            ]
          },
          "metadata": {
            "tags": [],
            "needs_background": "light"
          }
        }
      ]
    },
    {
      "cell_type": "markdown",
      "metadata": {
        "id": "Nrfcv8ubT3by"
      },
      "source": [
        "we can  see in the above graph, that most of the point lies at zero.so, my model is predicting quite good.Further more, the distribution is more close to normal distribution"
      ]
    },
    {
      "cell_type": "code",
      "metadata": {
        "id": "62dmpVgYT1sb"
      },
      "source": [
        "from sklearn.neighbors import KNeighborsRegressor\n",
        "from sklearn.linear_model import LinearRegression\n",
        "from sklearn.tree import DecisionTreeRegressor"
      ],
      "execution_count": 81,
      "outputs": []
    },
    {
      "cell_type": "code",
      "metadata": {
        "colab": {
          "base_uri": "https://localhost:8080/",
          "height": 615
        },
        "id": "Xwff3GMjTd9x",
        "outputId": "ea1fc390-c95b-4873-b91c-65d0412cfa46"
      },
      "source": [
        "predict(KNeighborsRegressor())"
      ],
      "execution_count": 82,
      "outputs": [
        {
          "output_type": "stream",
          "text": [
            " traing score: 0.7729773805631102\n",
            " prediction are:\n",
            "[13605.6 11025.8 10816.2 ... 12256.8 11082.4 13279.8]\n",
            "******************************\n",
            " r2score:0.6318238510823695\n",
            "******************************\n",
            " mean square error : 7093226.113261581\n",
            "******************************\n",
            " mean absolute error : 1727.0679457182969\n",
            "******************************\n",
            " root mean square error : 2663.3111183753167\n",
            "******************************\n"
          ],
          "name": "stdout"
        },
        {
          "output_type": "display_data",
          "data": {
            "text/plain": [
              "<Figure size 720x504 with 0 Axes>"
            ]
          },
          "metadata": {
            "tags": []
          }
        },
        {
          "output_type": "display_data",
          "data": {
            "image/png": "[encoded data removed]",
            "text/plain": [
              "<Figure size 360x360 with 1 Axes>"
            ]
          },
          "metadata": {
            "tags": [],
            "needs_background": "light"
          }
        }
      ]
    },
    {
      "cell_type": "code",
      "metadata": {
        "colab": {
          "base_uri": "https://localhost:8080/",
          "height": 633
        },
        "id": "b3h3Z0yDTeBF",
        "outputId": "35bc72e6-7ffe-42eb-b809-f46795a2b770"
      },
      "source": [
        "predict( LinearRegression())"
      ],
      "execution_count": 83,
      "outputs": [
        {
          "output_type": "stream",
          "text": [
            " traing score: 0.5025810425488053\n",
            " prediction are:\n",
            "[13010.33422692 10882.59711146  9544.22265529 ... 10826.86312358\n",
            " 11443.87283678 10540.82804633]\n",
            "******************************\n",
            " r2score:0.4931050847201003\n",
            "******************************\n",
            " mean square error : 9765760.928058658\n",
            "******************************\n",
            " mean absolute error : 2287.823837234646\n",
            "******************************\n",
            " root mean square error : 3125.021748413706\n",
            "******************************\n"
          ],
          "name": "stdout"
        },
        {
          "output_type": "display_data",
          "data": {
            "text/plain": [
              "<Figure size 720x504 with 0 Axes>"
            ]
          },
          "metadata": {
            "tags": []
          }
        },
        {
          "output_type": "display_data",
          "data": {
            "image/png": "[encoded data removed]",
            "text/plain": [
              "<Figure size 360x360 with 1 Axes>"
            ]
          },
          "metadata": {
            "tags": [],
            "needs_background": "light"
          }
        }
      ]
    },
    {
      "cell_type": "code",
      "metadata": {
        "colab": {
          "base_uri": "https://localhost:8080/",
          "height": 633
        },
        "id": "3jTzJLAjTeEn",
        "outputId": "25e8b068-2672-4269-e30e-baf5cf8e6f17"
      },
      "source": [
        "predict(DecisionTreeRegressor())"
      ],
      "execution_count": null,
      "outputs": [
        {
          "output_type": "stream",
          "text": [
            " traing score: 0.7682431535662436\n",
            " prediction are:\n",
            "[10008.         11901.          8478.5        ... 11855.1\n",
            " 11629.14285714 12926.58333333]\n",
            "******************************\n",
            " r2score:0.5325219541050872\n",
            "******************************\n",
            " mean square error : 9006361.471992422\n",
            "******************************\n",
            " mean absolute error : 1753.6990617858921\n",
            "******************************\n",
            " root mean square error : 3001.060058044894\n",
            "******************************\n"
          ],
          "name": "stdout"
        },
        {
          "output_type": "display_data",
          "data": {
            "text/plain": [
              "<Figure size 720x504 with 0 Axes>"
            ]
          },
          "metadata": {
            "tags": []
          }
        },
        {
          "output_type": "display_data",
          "data": {
            "image/png": "[encoded data removed]",
            "text/plain": [
              "<Figure size 360x360 with 1 Axes>"
            ]
          },
          "metadata": {
            "tags": [],
            "needs_background": "light"
          }
        }
      ]
    },
    {
      "cell_type": "markdown",
      "metadata": {
        "id": "q9rNFO4JVoBn"
      },
      "source": [
        "**HYpertunning**"
      ]
    },
    {
      "cell_type": "code",
      "metadata": {
        "id": "mEWPnnVJTeP7"
      },
      "source": [
        "from sklearn.model_selection import RandomizedSearchCV\n",
        "from sklearn.ensemble import RandomForestRegressor\n",
        "model=RandomForestRegressor()\n"
      ],
      "execution_count": 84,
      "outputs": []
    },
    {
      "cell_type": "code",
      "metadata": {
        "id": "3LeQju1Pdy-0"
      },
      "source": [
        "n_estimators=[int(x) for x in np.linspace(100,1200,6)]\n",
        "max_depth=[int(x) for x in np.linspace(5,30,4)]"
      ],
      "execution_count": 85,
      "outputs": []
    },
    {
      "cell_type": "code",
      "metadata": {
        "colab": {
          "base_uri": "https://localhost:8080/"
        },
        "id": "4tyHHbIsQmHe",
        "outputId": "107c2e25-12ed-4cc6-a26c-2890c3f435e0"
      },
      "source": [
        "max_depth"
      ],
      "execution_count": 87,
      "outputs": [
        {
          "output_type": "execute_result",
          "data": {
            "text/plain": [
              "[5, 13, 21, 30]"
            ]
          },
          "metadata": {
            "tags": []
          },
          "execution_count": 87
        }
      ]
    },
    {
      "cell_type": "code",
      "metadata": {
        "id": "DCNsyAvwTehg"
      },
      "source": [
        "rand_grid={'max_features':['auto','sqrt'] ,\n",
        "           'max_depth':[5, 13, 21, 30],\n",
        "                     'min_samples_split':[5,10,15,100],\n",
        "           'n_estimators':n_estimators\n",
        "           }"
      ],
      "execution_count": 95,
      "outputs": []
    },
    {
      "cell_type": "code",
      "metadata": {
        "colab": {
          "base_uri": "https://localhost:8080/"
        },
        "id": "ftYz0GwwTelg",
        "outputId": "081510db-0161-4a7f-aa18-167bc4cec100"
      },
      "source": [
        "rand_grid"
      ],
      "execution_count": 96,
      "outputs": [
        {
          "output_type": "execute_result",
          "data": {
            "text/plain": [
              "{'max_depth': [5, 13, 21, 30],\n",
              " 'max_features': ['auto', 'sqrt'],\n",
              " 'min_samples_split': [5, 10, 15, 100],\n",
              " 'n_estimators': [100, 320, 540, 760, 980, 1200]}"
            ]
          },
          "metadata": {
            "tags": []
          },
          "execution_count": 96
        }
      ]
    },
    {
      "cell_type": "code",
      "metadata": {
        "id": "kaqs_FyxTenh"
      },
      "source": [
        "\n",
        "rf_random=RandomizedSearchCV(estimator=model,param_distributions=rand_grid,cv=3,verbose=2,n_jobs=-1)"
      ],
      "execution_count": 97,
      "outputs": []
    },
    {
      "cell_type": "code",
      "metadata": {
        "colab": {
          "base_uri": "https://localhost:8080/"
        },
        "id": "1imqJ7xCTepD",
        "outputId": "e486be06-8c69-4364-f324-31c65c31edc6"
      },
      "source": [
        "rf_random.fit(X_train,y_train)"
      ],
      "execution_count": 98,
      "outputs": [
        {
          "output_type": "stream",
          "text": [
            "Fitting 3 folds for each of 10 candidates, totalling 30 fits\n"
          ],
          "name": "stdout"
        },
        {
          "output_type": "stream",
          "text": [
            "[Parallel(n_jobs=-1)]: Using backend LokyBackend with 2 concurrent workers.\n",
            "[Parallel(n_jobs=-1)]: Done  30 out of  30 | elapsed:  3.0min finished\n"
          ],
          "name": "stderr"
        },
        {
          "output_type": "execute_result",
          "data": {
            "text/plain": [
              "RandomizedSearchCV(cv=3, error_score=nan,\n",
              "                   estimator=RandomForestRegressor(bootstrap=True,\n",
              "                                                   ccp_alpha=0.0,\n",
              "                                                   criterion='mse',\n",
              "                                                   max_depth=None,\n",
              "                                                   max_features='auto',\n",
              "                                                   max_leaf_nodes=None,\n",
              "                                                   max_samples=None,\n",
              "                                                   min_impurity_decrease=0.0,\n",
              "                                                   min_impurity_split=None,\n",
              "                                                   min_samples_leaf=1,\n",
              "                                                   min_samples_split=2,\n",
              "                                                   min_weight_fraction_leaf=0.0,\n",
              "                                                   n_estimators=100,\n",
              "                                                   n_jobs=None, oob_score=False,\n",
              "                                                   random_state=None, verbose=0,\n",
              "                                                   warm_start=False),\n",
              "                   iid='deprecated', n_iter=10, n_jobs=-1,\n",
              "                   param_distributions={'max_depth': [5, 13, 21, 30],\n",
              "                                        'max_features': ['auto', 'sqrt'],\n",
              "                                        'min_samples_split': [5, 10, 15, 100],\n",
              "                                        'n_estimators': [100, 320, 540, 760,\n",
              "                                                         980, 1200]},\n",
              "                   pre_dispatch='2*n_jobs', random_state=None, refit=True,\n",
              "                   return_train_score=False, scoring=None, verbose=2)"
            ]
          },
          "metadata": {
            "tags": []
          },
          "execution_count": 98
        }
      ]
    },
    {
      "cell_type": "code",
      "metadata": {
        "id": "fxtf0PU_Teq1",
        "colab": {
          "base_uri": "https://localhost:8080/"
        },
        "outputId": "44e15f17-ae88-4cd7-eefe-abcdf6d4bd4f"
      },
      "source": [
        "rf_random.best_params_"
      ],
      "execution_count": 99,
      "outputs": [
        {
          "output_type": "execute_result",
          "data": {
            "text/plain": [
              "{'max_depth': 30,\n",
              " 'max_features': 'auto',\n",
              " 'min_samples_split': 15,\n",
              " 'n_estimators': 540}"
            ]
          },
          "metadata": {
            "tags": []
          },
          "execution_count": 99
        }
      ]
    },
    {
      "cell_type": "code",
      "metadata": {
        "id": "FWdKIwmDTes2",
        "colab": {
          "base_uri": "https://localhost:8080/",
          "height": 296
        },
        "outputId": "cbb93359-8335-4165-cc62-8d3a084acf62"
      },
      "source": [
        "y_pre=rf_random.predict(X_test)\n",
        "sns.distplot(y_test-y_pre)"
      ],
      "execution_count": 101,
      "outputs": [
        {
          "output_type": "execute_result",
          "data": {
            "text/plain": [
              "<matplotlib.axes._subplots.AxesSubplot at 0x7f6f11eb1850>"
            ]
          },
          "metadata": {
            "tags": []
          },
          "execution_count": 101
        },
        {
          "output_type": "display_data",
          "data": {
            "image/png": "[encoded data removed]",
            "text/plain": [
              "<Figure size 432x288 with 1 Axes>"
            ]
          },
          "metadata": {
            "tags": [],
            "needs_background": "light"
          }
        }
      ]
    },
    {
      "cell_type": "code",
      "metadata": {
        "id": "eKzU1Rm-Te3e",
        "colab": {
          "base_uri": "https://localhost:8080/"
        },
        "outputId": "33cbdb2d-9a32-4f73-b44f-d10ae5608640"
      },
      "source": [
        "from sklearn.metrics import r2_score,accuracy_score\n",
        "r2_score(y_test,y_pre)  "
      ],
      "execution_count": 103,
      "outputs": [
        {
          "output_type": "execute_result",
          "data": {
            "text/plain": [
              "0.7715532072028657"
            ]
          },
          "metadata": {
            "tags": []
          },
          "execution_count": 103
        }
      ]
    },
    {
      "cell_type": "markdown",
      "metadata": {
        "id": "4d8Znp6jcMsq"
      },
      "source": [
        "So, by doing hypertunning for random forest regressor we have raised R2 value from .72 to .77"
      ]
    }
  ]
}